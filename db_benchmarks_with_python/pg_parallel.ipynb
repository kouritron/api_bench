{
 "cells": [
  {
   "cell_type": "code",
   "execution_count": 1,
   "metadata": {},
   "outputs": [],
   "source": [
    "import os\n",
    "import sys\n",
    "import subprocess as sp\n",
    "import json\n",
    "import random\n",
    "import time\n",
    "import hashlib\n",
    "import base64\n",
    "from contextlib import closing\n",
    "from dataclasses import dataclass\n",
    "import typing\n",
    "\n",
    "import multiprocessing\n",
    "# from multiprocessing import Barrier\n",
    "\n",
    "from concurrent.futures.thread import ThreadPoolExecutor\n",
    "from concurrent.futures.process import ProcessPoolExecutor\n",
    "\n",
    "import psycopg2\n",
    "import psycopg2.extras"
   ]
  },
  {
   "cell_type": "markdown",
   "metadata": {},
   "source": [
    "### Get a quick pg instance:\n",
    "---\n",
    "\n",
    "```bash\n",
    "# ephemeral pg13\n",
    "docker run --rm -it --name pg13 --network host -e POSTGRES_PASSWORD=bobz1234 postgres:13 --port=9932\n",
    "\n",
    "\n",
    "# put data under tmpfs\n",
    "# PGDATA tells it where to put data, needs to be someplace that can be chowned to postgres user\n",
    "# by default things should be under /var/lib/postgresql/data\n",
    "docker run --rm -it --name pg13 --network host -e POSTGRES_PASSWORD=bobz1234 \\\n",
    "-e PGDATA=/var/lib/postgresql/data/tmpfs_vol/pgdata \\ \n",
    "--tmpfs /var/lib/postgresql/data/tmpfs_vol/ postgres:13 --port=9932 --listen-addresses='*'\n",
    "\n",
    "\n",
    "# if connecting from remote add\n",
    "--listen-addresses='*'\n",
    "```"
   ]
  },
  {
   "cell_type": "code",
   "execution_count": null,
   "metadata": {},
   "outputs": [],
   "source": []
  },
  {
   "cell_type": "code",
   "execution_count": 2,
   "metadata": {},
   "outputs": [],
   "source": [
    "\n",
    "# dsn = \"... dbname=postgres options='-c synchronous_commit=off'\"\n",
    "_PG_DSN_SYNC = {\n",
    "    # \"host\": \"192.168.24.141\",\n",
    "    # \"port\": \"5432\",\n",
    "    \n",
    "    # \"host\": \"127.0.0.1\",\n",
    "    \"host\": \"192.168.24.140\",\n",
    "    \"port\": \"9932\",\n",
    "    \n",
    "    \"dbname\": \"postgres\",\n",
    "    \"user\": \"postgres\",\n",
    "    \"password\": 'bobz1234',\n",
    "    \n",
    "    # any other options should be passed along to underlying lib, but only those psycopg2 understands\n",
    "    # and accepts. \"nonz\": \"hello world\" wouldnt be accepted or passed along\n",
    "    \"application_name\": \"pg_bench_ntbk\",\n",
    "}\n",
    "\n",
    "_PG_DSN_NO_SYNC = _PG_DSN_SYNC.copy() # shallow is enof.\n",
    "_PG_DSN_NO_SYNC[\"options\"] = \"-c synchronous_commit=off\"\n",
    "_PG_DSN_NO_SYNC[\"application_name\"] = \"fts_ntbk_unsync\""
   ]
  },
  {
   "cell_type": "code",
   "execution_count": null,
   "metadata": {},
   "outputs": [],
   "source": [
    "sync_dbconn = psycopg2.connect(**_PG_DSN_SYNC)\n",
    "sync_dbconn.autocommit = True\n",
    "\n",
    "unsync_dbconn = psycopg2.connect(**_PG_DSN_NO_SYNC)\n",
    "unsync_dbconn.autocommit = True"
   ]
  },
  {
   "cell_type": "code",
   "execution_count": 4,
   "metadata": {},
   "outputs": [],
   "source": [
    "sync_cur = sync_dbconn.cursor()\n",
    "unsync_cur = unsync_dbconn.cursor()"
   ]
  },
  {
   "cell_type": "code",
   "execution_count": 5,
   "metadata": {},
   "outputs": [],
   "source": [
    "# common q exec.\n",
    "def exec_q_unsync(q, pr_res=True, col_names=True):\n",
    "    with closing(unsync_dbconn.cursor()) as tmp_cur:\n",
    "        tmp_cur.execute(q)\n",
    "        if pr_res:\n",
    "            if col_names:\n",
    "                print(\"|\".join([desc[0] for desc in tmp_cur.description]))\n",
    "            print('-'*40)\n",
    "            for row in tmp_cur.fetchall():\n",
    "                print(row)\n",
    "            # sep\n",
    "            print(\"\")\n",
    "# sync\n",
    "def exec_q_sync(q, pr_res=True, col_names=True):\n",
    "    with closing(sync_dbconn.cursor()) as tmp_cur:\n",
    "        tmp_cur.execute(q)\n",
    "        if pr_res:\n",
    "            if col_names:\n",
    "                print(\"|\".join([desc[0] for desc in tmp_cur.description]))\n",
    "            print('-'*40)\n",
    "            for row in tmp_cur.fetchall():\n",
    "                print(row)\n",
    "            # sep\n",
    "            print(\"\")"
   ]
  },
  {
   "cell_type": "code",
   "execution_count": null,
   "metadata": {},
   "outputs": [],
   "source": []
  },
  {
   "cell_type": "markdown",
   "metadata": {},
   "source": [
    "# Run some test queries"
   ]
  },
  {
   "cell_type": "code",
   "execution_count": 6,
   "metadata": {},
   "outputs": [
    {
     "name": "stdout",
     "output_type": "stream",
     "text": [
      "synchronous_commit\n",
      "----------------------------------------\n",
      "('on',)\n",
      "\n",
      "synchronous_commit\n",
      "----------------------------------------\n",
      "('off',)\n",
      "\n"
     ]
    }
   ],
   "source": [
    "exec_q_sync(\"SHOW synchronous_commit;\")\n",
    "exec_q_unsync(\"SHOW synchronous_commit;\")"
   ]
  },
  {
   "cell_type": "markdown",
   "metadata": {},
   "source": [
    "# Generate sample "
   ]
  },
  {
   "cell_type": "code",
   "execution_count": 7,
   "metadata": {},
   "outputs": [],
   "source": [
    "# int32 is usually ranged: -2 147 483 648 to 2 147 483 647\n",
    "def get_random_int32():\n",
    "    tmp = 2 * 1000 * 1000 * 1000\n",
    "    return random.randint(0, tmp)\n",
    "\n",
    "def get_random_int64():\n",
    "    tmp = 80 * 1000 * 1000 * 1000 * 1000\n",
    "    return random.randint(0, tmp)\n",
    "\n",
    "def get_random_str(str_len=48):\n",
    "    assert isinstance(str_len, int)\n",
    "    assert str_len < 8192\n",
    "    return base64.b64encode(os.urandom(str_len), altchars=b\"AZ\").decode('ascii')"
   ]
  },
  {
   "cell_type": "code",
   "execution_count": 8,
   "metadata": {},
   "outputs": [
    {
     "name": "stdout",
     "output_type": "stream",
     "text": [
      "('9prwcUq3EEoDB3B8fufKLUBoZbuaRvQHQxFLrgASYMvvn4j1UwnzKZQW0xT76H38', 18670438)\n",
      "('jpe4X8e5ILngFKOkMD7unSoBUtdagjOD0KA3Zm2UTFu6Z6AZQgyum3DUzQVcI8Br', 116052191)\n",
      "('EEsGwvDwuVoP6A8VbowRKJnHK3tF162pZZighZBU2gASorOrSc7xWo5FPzsj4OYl', 230162896)\n",
      "('qiGCy1NotC99oC7VtZbzbJRWfoiZx2wA1Rof1BWcZdJHCfvu7kZmCcAyZYNbZpAd', 1015894051)\n",
      "('IYDvZ0UjD45eGgnOoKSW0pPimImPMhiwCZJIeTGuLAWZOo5fLzj7c0EOmuPZ1uSj', 900492258)\n"
     ]
    }
   ],
   "source": [
    "# demo records\n",
    "for _ in range(5):\n",
    "    print((get_random_str(48), get_random_int32()))\n",
    "\n"
   ]
  },
  {
   "cell_type": "code",
   "execution_count": null,
   "metadata": {},
   "outputs": [],
   "source": []
  },
  {
   "cell_type": "markdown",
   "metadata": {},
   "source": [
    "# Create BENCHMARK tables"
   ]
  },
  {
   "cell_type": "code",
   "execution_count": 9,
   "metadata": {},
   "outputs": [],
   "source": [
    "refresh_schema_q = \"\"\"\n",
    "DROP TABLE IF EXISTS xb_bench1 CASCADE;\n",
    "DROP TABLE IF EXISTS xb_bench2 CASCADE;\n",
    "\n",
    "CREATE TABLE IF NOT EXISTS xb_bench1(\n",
    "brid SERIAL PRIMARY KEY NOT NULL,\n",
    "val_1 TEXT,\n",
    "num_1 BIGINT);\n",
    "\n",
    "\n",
    "CREATE TABLE IF NOT EXISTS xb_bench2(\n",
    "brid SERIAL PRIMARY KEY NOT NULL,\n",
    "val_1 TEXT,\n",
    "num_1 BIGINT);\n",
    "\"\"\""
   ]
  },
  {
   "cell_type": "code",
   "execution_count": 10,
   "metadata": {},
   "outputs": [],
   "source": [
    "exec_q_sync(refresh_schema_q, pr_res=False)"
   ]
  },
  {
   "cell_type": "code",
   "execution_count": null,
   "metadata": {},
   "outputs": [],
   "source": []
  },
  {
   "cell_type": "code",
   "execution_count": 11,
   "metadata": {},
   "outputs": [],
   "source": [
    "# test insert some records"
   ]
  },
  {
   "cell_type": "code",
   "execution_count": 13,
   "metadata": {},
   "outputs": [
    {
     "name": "stdout",
     "output_type": "stream",
     "text": [
      "brid|val_1|num_1\n",
      "----------------------------------------\n",
      "(1, 'Q8M5rzhQveJJClZAGhXtNmWCgRm2ETnSeZb2KdXy1vDVlnj3tYOlOZulh2Fc7T1p', 2120724)\n",
      "(2, 'EEsGwvDwuVoP6A8VbowRKJnHK3tF162pZZighZBU2gASorOrSc7xWo5FPzsj4OYl', 2020921)\n",
      "\n",
      "db clean again:\n",
      "brid|val_1|num_1\n",
      "----------------------------------------\n",
      "\n"
     ]
    }
   ],
   "source": [
    "q = \"\"\" INSERT INTO xb_bench1(val_1, num_1) VALUES \n",
    "('Q8M5rzhQveJJClZAGhXtNmWCgRm2ETnSeZb2KdXy1vDVlnj3tYOlOZulh2Fc7T1p', '2120724'),\n",
    "('EEsGwvDwuVoP6A8VbowRKJnHK3tF162pZZighZBU2gASorOrSc7xWo5FPzsj4OYl', '2020921');\n",
    "\"\"\"\n",
    "\n",
    "sync_cur.execute(q)\n",
    "exec_q_sync(\"select * from xb_bench1;\")\n",
    "exec_q_sync(refresh_schema_q, pr_res=False)\n",
    "\n",
    "print('db clean again:')\n",
    "exec_q_sync(\"select * from xb_bench1;\")"
   ]
  },
  {
   "cell_type": "code",
   "execution_count": null,
   "metadata": {},
   "outputs": [],
   "source": []
  },
  {
   "cell_type": "code",
   "execution_count": null,
   "metadata": {},
   "outputs": [],
   "source": []
  },
  {
   "cell_type": "code",
   "execution_count": null,
   "metadata": {},
   "outputs": [],
   "source": []
  },
  {
   "cell_type": "markdown",
   "metadata": {},
   "source": [
    "---\n",
    "---\n",
    "---\n",
    "---\n",
    "---\n",
    "# Concurrent/Parallel Benchmarks:\n"
   ]
  },
  {
   "cell_type": "code",
   "execution_count": 14,
   "metadata": {},
   "outputs": [],
   "source": [
    "@dataclass(frozen=True)\n",
    "class BenchParams:\n",
    "    wrkr_id: str\n",
    "    pg_dsn_kwargs: dict\n",
    "    start_barrier: typing.Any\n",
    "    \n",
    "    # benchmark 4 ips (insertion per sec)\n",
    "    b4i_num_records: int\n"
   ]
  },
  {
   "cell_type": "code",
   "execution_count": 15,
   "metadata": {},
   "outputs": [],
   "source": [
    "@dataclass(frozen=True)\n",
    "class BenchResult:\n",
    "    wrkr_id: str\n",
    "    \n",
    "    wrkr_start_time: float\n",
    "    wrkr_end_time: float\n",
    "    \n",
    "    # benchmark for ips\n",
    "    b4i_start_time: float\n",
    "    b4i_end_time: float\n",
    "    \n",
    "    b4i_num_records: int\n",
    "    b4i_ips: int\n",
    "    \n",
    "    def __str__(self):\n",
    "        \n",
    "        _deltaT = self.b4i_end_time - self.b4i_start_time\n",
    "        _ips = int(self.b4i_num_records / _deltaT)\n",
    "        _b4i_start = self.b4i_start_time\n",
    "        \n",
    "        # verbose\n",
    "#         res =  f\"\"\"\\n{\"=\" * 80} {self.wrkr_id}:\n",
    "# b4i start  : {self.b4i_start_time}\n",
    "# b4i end    : {self.b4i_end_time}\n",
    "# b4i deltaT : {_deltaT:.4f}\n",
    "# b4i num records : {self.b4i_num_records:,}\n",
    "# ips             : {_ips}\"\"\"\n",
    "\n",
    "        res = f\"wrkr_id: {self.wrkr_id} -- b4i_start: {_b4i_start:,.4f} -- deltaT: {_deltaT:.4f} -- ips: {_ips}\" \n",
    "        return res"
   ]
  },
  {
   "cell_type": "code",
   "execution_count": 16,
   "metadata": {},
   "outputs": [],
   "source": [
    "class IPS_Benchmark:\n",
    "    def __init__(self, bp: BenchParams):\n",
    "        \n",
    "        self.bp = bp\n",
    "        \n",
    "        # ----- generate sample data:\n",
    "        self.b4i_data = []\n",
    "        for _ in range(bp.b4i_num_records):\n",
    "            # almost no diff between 48 or just 4 in ips\n",
    "            tmp_record = (get_random_str(48), get_random_int32())\n",
    "            self.b4i_data.append(tmp_record)\n",
    "        \n",
    "        # ----- connect to db        \n",
    "        self.db_conn = psycopg2.connect(**bp.pg_dsn_kwargs)\n",
    "        self.db_conn.autocommit = True\n",
    "        \n",
    "        print(f\"{bp.wrkr_id}: init compelete. time: {time.time():,.5f}\\n\", end=\"\")\n",
    "        \n",
    "    def run_b4i(self):\n",
    "        \n",
    "        with self.db_conn.cursor() as tmp_cur:\n",
    "            _q = \"INSERT INTO xb_bench1(val_1, num_1) VALUES %s;\"\n",
    "            psycopg2.extras.execute_values(tmp_cur, _q, self.b4i_data)\n",
    "        \n",
    "    "
   ]
  },
  {
   "cell_type": "code",
   "execution_count": null,
   "metadata": {},
   "outputs": [],
   "source": []
  },
  {
   "cell_type": "code",
   "execution_count": 17,
   "metadata": {},
   "outputs": [],
   "source": [
    "def wrkr_entry(bp: BenchParams):\n",
    "    \n",
    "    _wrkr_start_time = time.time()\n",
    "    \n",
    "    # print(f\"{bp.wrkr_id}: wrkr_entry() called. Time: {_wrkr_start_time:,.5f}\\n\", end=\"\")\n",
    "    \n",
    "    bench = IPS_Benchmark(bp)\n",
    "    \n",
    "    # comment/uncomment sleep to simulate additional init delay\n",
    "    # time.sleep(1)\n",
    "    \n",
    "    # synchronize all benchmarks to start at the same time. ie using a barrier\n",
    "    bp.start_barrier.wait()\n",
    "    \n",
    "    print(f\"{bp.wrkr_id} awoken. worker is passed barrier. time: {time.time():,.5f}\\n\", end=\"\")\n",
    "    \n",
    "    _b4i_start_time = time.time()\n",
    "    bench.run_b4i()\n",
    "    _b4i_end_time = time.time()\n",
    "    \n",
    "    # calculate some benchmark stats for the returning result\n",
    "    _b4i_num_records = len(bench.b4i_data)\n",
    "    _b4i_ips = _b4i_num_records / (_b4i_end_time - _b4i_start_time)\n",
    "    \n",
    "    \n",
    "    bres = BenchResult(wrkr_id=bp.wrkr_id, wrkr_start_time=_wrkr_start_time, wrkr_end_time=time.time(),\n",
    "                       b4i_start_time=_b4i_start_time, b4i_end_time=_b4i_end_time,\n",
    "                       b4i_num_records=_b4i_num_records, b4i_ips=_b4i_ips)\n",
    "    \n",
    "    return bres"
   ]
  },
  {
   "cell_type": "code",
   "execution_count": null,
   "metadata": {},
   "outputs": [],
   "source": [
    "\n",
    "    "
   ]
  },
  {
   "cell_type": "code",
   "execution_count": null,
   "metadata": {},
   "outputs": [],
   "source": []
  },
  {
   "cell_type": "markdown",
   "metadata": {},
   "source": [
    "---\n",
    "---\n",
    "---\n",
    "# ProcessPoolExecutor\n"
   ]
  },
  {
   "cell_type": "code",
   "execution_count": null,
   "metadata": {},
   "outputs": [],
   "source": []
  },
  {
   "cell_type": "code",
   "execution_count": 23,
   "metadata": {},
   "outputs": [
    {
     "name": "stdout",
     "output_type": "stream",
     "text": [
      "db is clean. benchamrk rdy to run ...\n",
      "\n",
      "w3: init compelete. time: 1,604,576,156.52969\n",
      "w2: init compelete. time: 1,604,576,156.53489\n",
      "w0: init compelete. time: 1,604,576,156.54012\n",
      "w1: init compelete. time: 1,604,576,156.55390\n",
      "w1 awoken. worker is passed barrier. time: 1,604,576,156.55600\n",
      "w2 awoken. worker is passed barrier. time: 1,604,576,156.55617\n",
      "w3 awoken. worker is passed barrier. time: 1,604,576,156.55623\n",
      "w0 awoken. worker is passed barrier. time: 1,604,576,156.55613\n",
      "\n",
      "# -------------------------------------------------------------------------------------------------\n",
      "# -------------------------------------------------------------------------------------------------\n",
      "==================== benchmark results: \n",
      "num wrkrs: 4\n",
      "records per wrkr: 400,000\n",
      "Actual records in xb_bench1 table: 1,600,000\n",
      "\n",
      "*** Sum of syncd wrkr ips  : 234,431\n",
      "\n",
      "==================== worker info: \n",
      "wrkr_id: w0 -- b4i_start: 1,604,576,156.5573 -- deltaT: 6.8260 -- ips: 58599\n",
      "wrkr_id: w1 -- b4i_start: 1,604,576,156.5571 -- deltaT: 6.8454 -- ips: 58433\n",
      "wrkr_id: w2 -- b4i_start: 1,604,576,156.5573 -- deltaT: 6.7976 -- ips: 58844\n",
      "wrkr_id: w3 -- b4i_start: 1,604,576,156.5574 -- deltaT: 6.8313 -- ips: 58554\n"
     ]
    }
   ],
   "source": [
    "# ------------------------------------------------ lets go w/ option1: map and iterate results\n",
    "# option 2 would be\n",
    "# futures.append( ... submit() ...)\n",
    "# wait(futures)\n",
    "\n",
    "# ----------------------------------------- benchmark knobs\n",
    "ppx_worker_count = 4\n",
    "ppx_num_records = 400 * 1000\n",
    "\n",
    "# prep db \n",
    "with sync_dbconn.cursor() as tmp_cur:\n",
    "    tmp_cur.execute(refresh_schema_q)\n",
    "print(f\"db is clean. benchamrk rdy to run ...\\n\")\n",
    "\n",
    "mgr = multiprocessing.Manager()\n",
    "ppx_synd_start = mgr.Barrier(ppx_worker_count)\n",
    "# ppx_synd_start = None\n",
    "\n",
    "\n",
    "worker_args = []\n",
    "for i in range(ppx_worker_count):\n",
    "    _bp = BenchParams(wrkr_id=f'w{i}', b4i_num_records=ppx_num_records, pg_dsn_kwargs=_PG_DSN_SYNC,\n",
    "                      start_barrier=ppx_synd_start)\n",
    "    worker_args.append(_bp)\n",
    "\n",
    "# results\n",
    "ppx_waited_results = []\n",
    "\n",
    "# make ppx and run \n",
    "# master time is worthless, we are generating mock data in init, dont measure it, needless complexity\n",
    "with ProcessPoolExecutor(max_workers=ppx_worker_count) as ppx:\n",
    "    map_res_iterator = ppx.map(wrkr_entry, worker_args)\n",
    "    for res in map_res_iterator:\n",
    "        ppx_waited_results.append(res)\n",
    "\n",
    "# \n",
    "print(\"\")\n",
    "print('# ' + '-' * 97)\n",
    "print('# ' + '-' * 97)\n",
    "\n",
    "print('=' * 20 + \" benchmark results: \")\n",
    "total_inserted_records = sum([res.b4i_num_records for res in ppx_waited_results])\n",
    "b4i_workers_ips_sum = int(sum([res.b4i_ips for res in ppx_waited_results]))\n",
    "\n",
    "# (includes record generation, db connect, sync, ...)\n",
    "print(f\"num wrkrs: {ppx_worker_count}\")\n",
    "print(f\"records per wrkr: {ppx_num_records:,}\")\n",
    "\n",
    "with unsync_dbconn.cursor() as tmp_cur:\n",
    "    tmp_cur.execute('SELECT count(*) FROM xb_bench1;')\n",
    "    print(f\"Actual records in xb_bench1 table: {tmp_cur.fetchone()[0]:,}\")\n",
    "    \n",
    "    # drop tables so it doesnt go and try to resolve WAL and what not.\n",
    "    tmp_cur.execute(refresh_schema_q)\n",
    "\n",
    "# \n",
    "print(f\"\\n*** Sum of syncd wrkr ips  : {b4i_workers_ips_sum:,}\")\n",
    "\n",
    "print('\\n' + '=' * 20 + \" worker info: \")\n",
    "for res in ppx_waited_results:\n",
    "    print(res)"
   ]
  },
  {
   "cell_type": "code",
   "execution_count": null,
   "metadata": {},
   "outputs": [],
   "source": []
  },
  {
   "cell_type": "code",
   "execution_count": null,
   "metadata": {},
   "outputs": [],
   "source": []
  },
  {
   "cell_type": "markdown",
   "metadata": {},
   "source": [
    "```text\n",
    "\n",
    "# -------------------------------------------------------------------------------------------------\n",
    "# -------------------------------------------------------------------------------------------------\n",
    "==================== benchmark results: \n",
    "num wrkrs: 8\n",
    "records per wrkr: 400,000\n",
    "Actual records in xb_bench1 table: 3,200,000\n",
    "\n",
    "*** Sum of syncd wrkr ips  : 320,316\n",
    "\n",
    "==================== worker info: \n",
    "wrkr_id: w0 -- b4i_start: 1,604,575,980.4382 -- deltaT: 9.9389 -- ips: 40245\n",
    "wrkr_id: w1 -- b4i_start: 1,604,575,980.4372 -- deltaT: 9.9904 -- ips: 40038\n",
    "wrkr_id: w2 -- b4i_start: 1,604,575,980.4376 -- deltaT: 10.0553 -- ips: 39779\n",
    "wrkr_id: w3 -- b4i_start: 1,604,575,980.4387 -- deltaT: 9.9548 -- ips: 40181\n",
    "wrkr_id: w4 -- b4i_start: 1,604,575,980.4381 -- deltaT: 9.9270 -- ips: 40294\n",
    "wrkr_id: w5 -- b4i_start: 1,604,575,980.4368 -- deltaT: 10.0715 -- ips: 39715\n",
    "wrkr_id: w6 -- b4i_start: 1,604,575,980.4370 -- deltaT: 10.0250 -- ips: 39900\n",
    "wrkr_id: w7 -- b4i_start: 1,604,575,980.4378 -- deltaT: 9.9601 -- ips: 40160\n",
    "\n",
    "\n",
    "- network usage: 28-30 MB/s stable\n",
    "\n",
    "\n",
    "# -------------------------------------------------------------------------------------------------\n",
    "# -------------------------------------------------------------------------------------------------\n",
    "==================== benchmark results: \n",
    "num wrkrs: 16\n",
    "records per wrkr: 400,000\n",
    "Actual records in xb_bench1 table: 6,400,000\n",
    "\n",
    "*** Sum of syncd wrkr ips  : 309,729\n",
    "\n",
    "==================== worker info: \n",
    "wrkr_id: w0 -- b4i_start: 1,604,576,077.8092 -- deltaT: 20.6500 -- ips: 19370\n",
    "wrkr_id: w1 -- b4i_start: 1,604,576,077.8071 -- deltaT: 20.6666 -- ips: 19354\n",
    "wrkr_id: w2 -- b4i_start: 1,604,576,077.8116 -- deltaT: 20.6118 -- ips: 19406\n",
    "wrkr_id: w3 -- b4i_start: 1,604,576,077.8108 -- deltaT: 20.6829 -- ips: 19339\n",
    "wrkr_id: w4 -- b4i_start: 1,604,576,077.8094 -- deltaT: 20.5849 -- ips: 19431\n",
    "wrkr_id: w5 -- b4i_start: 1,604,576,077.8092 -- deltaT: 20.8545 -- ips: 19180\n",
    ".... trunc ...\n",
    "\n",
    "- network usage: 28-30 MB/s stable\n",
    "\n",
    "\n",
    "# -------------------------------------------------------------------------------------------------\n",
    "# -------------------------------------------------------------------------------------------------\n",
    "==================== benchmark results: \n",
    "num wrkrs: 4\n",
    "records per wrkr: 400,000\n",
    "Actual records in xb_bench1 table: 1,600,000\n",
    "\n",
    "*** Sum of syncd wrkr ips  : 234,431\n",
    "\n",
    "==================== worker info: \n",
    "wrkr_id: w0 -- b4i_start: 1,604,576,156.5573 -- deltaT: 6.8260 -- ips: 58599\n",
    "wrkr_id: w1 -- b4i_start: 1,604,576,156.5571 -- deltaT: 6.8454 -- ips: 58433\n",
    "wrkr_id: w2 -- b4i_start: 1,604,576,156.5573 -- deltaT: 6.7976 -- ips: 58844\n",
    "wrkr_id: w3 -- b4i_start: 1,604,576,156.5574 -- deltaT: 6.8313 -- ips: 58554\n",
    "\n",
    "- network usage: ~ 20 MB/s stable\n",
    "\n",
    "\n",
    "\n",
    "# -------------------------------------------------------------------------------------------------\n",
    "# -------------------------------------------------------------------------------------------------\n",
    "\n",
    "\n",
    "\n",
    "# -------------------------------------------------------------------------------------------------\n",
    "# -------------------------------------------------------------------------------------------------\n",
    "\n",
    "\n",
    "\n",
    "# -------------------------------------------------------------------------------------------------\n",
    "# -------------------------------------------------------------------------------------------------\n",
    "\n",
    "\n",
    "\n",
    "# -------------------------------------------------------------------------------------------------\n",
    "# -------------------------------------------------------------------------------------------------\n",
    "\n",
    "\n",
    "\n",
    "# -------------------------------------------------------------------------------------------------\n",
    "# -------------------------------------------------------------------------------------------------\n",
    "\n",
    "\n",
    "\n",
    "\n",
    "\n",
    "\n",
    "\n",
    "\n",
    "```"
   ]
  },
  {
   "cell_type": "code",
   "execution_count": null,
   "metadata": {},
   "outputs": [],
   "source": []
  },
  {
   "cell_type": "code",
   "execution_count": null,
   "metadata": {},
   "outputs": [],
   "source": []
  },
  {
   "cell_type": "code",
   "execution_count": null,
   "metadata": {},
   "outputs": [],
   "source": []
  },
  {
   "cell_type": "code",
   "execution_count": null,
   "metadata": {},
   "outputs": [],
   "source": []
  },
  {
   "cell_type": "code",
   "execution_count": null,
   "metadata": {},
   "outputs": [],
   "source": []
  },
  {
   "cell_type": "markdown",
   "metadata": {},
   "source": [
    "---\n",
    "# PPX Results Dump"
   ]
  },
  {
   "cell_type": "markdown",
   "metadata": {},
   "source": [
    "```text\n",
    "\n",
    "# -------------------------------------------------------------------------------------------------\n",
    "# -------------------------------------------------------------------------------------------------\n",
    "# -------------------------------------------------------------------------------------------------\n",
    "# -------------------------------------------------------------------------------------------------\n",
    "# ---------------------------------------------- Ryzen 2700X, 32GB RAM, pg13 on dkr on tmpfs PGDATA\n",
    "\n",
    "\n",
    "# -------------------------------------------------------------------------------------------------\n",
    "# -------------------------------------------------------------------------------------------------\n",
    "==================== benchmark results: \n",
    "num wrkrs: 16\n",
    "records per wrkr: 400,000\n",
    "Actual records in xb_bench1 table: 6,400,000\n",
    "\n",
    "*** Sum of syncd wrkr ips  : 341,944\n",
    "\n",
    "==================== worker info: \n",
    "wrkr_id: w0 -- b4i_start: 1,604,456,922.3961 -- deltaT: 18.6815 -- ips: 21411\n",
    "wrkr_id: w1 -- b4i_start: 1,604,456,922.3926 -- deltaT: 18.7718 -- ips: 21308\n",
    "wrkr_id: w2 -- b4i_start: 1,604,456,922.3938 -- deltaT: 18.6393 -- ips: 21459\n",
    "wrkr_id: w3 -- b4i_start: 1,604,456,922.3929 -- deltaT: 18.8011 -- ips: 21275\n",
    "wrkr_id: w4 -- b4i_start: 1,604,456,922.3951 -- deltaT: 18.5248 -- ips: 21592\n",
    "wrkr_id: w5 -- b4i_start: 1,604,456,922.3929 -- deltaT: 18.6606 -- ips: 21435\n",
    "wrkr_id: w6 -- b4i_start: 1,604,456,922.3936 -- deltaT: 18.7656 -- ips: 21315\n",
    "wrkr_id: w7 -- b4i_start: 1,604,456,922.3916 -- deltaT: 18.8446 -- ips: 21226\n",
    "wrkr_id: w8 -- b4i_start: 1,604,456,922.3922 -- deltaT: 18.7874 -- ips: 21290\n",
    "wrkr_id: w9 -- b4i_start: 1,604,456,922.3949 -- deltaT: 18.5196 -- ips: 21598\n",
    "wrkr_id: w10 -- b4i_start: 1,604,456,922.3963 -- deltaT: 18.8223 -- ips: 21251\n",
    "wrkr_id: w11 -- b4i_start: 1,604,456,922.3973 -- deltaT: 18.7661 -- ips: 21314\n",
    "wrkr_id: w12 -- b4i_start: 1,604,456,922.3951 -- deltaT: 18.6571 -- ips: 21439\n",
    "wrkr_id: w13 -- b4i_start: 1,604,456,922.3931 -- deltaT: 18.7664 -- ips: 21314\n",
    "wrkr_id: w14 -- b4i_start: 1,604,456,922.3943 -- deltaT: 18.7043 -- ips: 21385\n",
    "wrkr_id: w15 -- b4i_start: 1,604,456,922.3961 -- deltaT: 18.7592 -- ips: 21322\n",
    "\n",
    "# NOTES:\n",
    "- quite a bit worse ips than 8 workers\n",
    "- it actually never used more than 450% CPU i suspect because there\n",
    "wasnt any more avaialble and there was less cpu available compared\n",
    "to 8 or 10 workers.\n",
    "\n",
    "# -------------------------------------------------------------------------------------------------\n",
    "# -------------------------------------------------------------------------------------------------\n",
    "==================== benchmark results:\n",
    "num wrkrs: 10\n",
    "records per wrkr: 400,000\n",
    "Actual records in xb_bench1 table: 4,000,000\n",
    "\n",
    "*** Sum of syncd wrkr ips  : 428,084\n",
    "\n",
    "==================== worker info: \n",
    "wrkr_id: w0  ---  b4i_start: 1,604,455,588.1164  ---  deltaT: 9.3211  ---  ips: 42913\n",
    "wrkr_id: w1  ---  b4i_start: 1,604,455,588.1185  ---  deltaT: 9.3788  ---  ips: 42649\n",
    "wrkr_id: w2  ---  b4i_start: 1,604,455,588.1177  ---  deltaT: 9.3515  ---  ips: 42773\n",
    "wrkr_id: w3  ---  b4i_start: 1,604,455,588.1163  ---  deltaT: 9.3592  ---  ips: 42738\n",
    "wrkr_id: w4  ---  b4i_start: 1,604,455,588.1188  ---  deltaT: 9.3389  ---  ips: 42831\n",
    "wrkr_id: w5  ---  b4i_start: 1,604,455,588.1169  ---  deltaT: 9.3821  ---  ips: 42634\n",
    "wrkr_id: w6  ---  b4i_start: 1,604,455,588.1173  ---  deltaT: 9.3661  ---  ips: 42707\n",
    "wrkr_id: w7  ---  b4i_start: 1,604,455,588.1180  ---  deltaT: 9.3182  ---  ips: 42926\n",
    "wrkr_id: w8  ---  b4i_start: 1,604,455,588.1176  ---  deltaT: 9.3024  ---  ips: 42999\n",
    "wrkr_id: w9  ---  b4i_start: 1,604,455,588.1189  ---  deltaT: 9.3220  ---  ips: 42909\n",
    "\n",
    "# NOTES:\n",
    "- pg container used up to 500% CPU, and I suspect there wasnt any more.\n",
    "\n",
    "\n",
    "\n",
    "# -------------------------------------------------------------------------------------------------\n",
    "# -------------------------------------------------------------------------------------------------\n",
    "==================== benchmark results: \n",
    "num wrkrs: 8\n",
    "records per wrkr: 400,000\n",
    "Actual records in xb_bench1 table: 3,200,000\n",
    "\n",
    "*** Sum of syncd wrkr ips  : 439,998\n",
    "\n",
    "==================== worker info: \n",
    "wrkr_id: w0  ---  b4i_start: 1,604,455,719.8974  ---  deltaT: 7.2736  ---  ips: 54993\n",
    "wrkr_id: w1  ---  b4i_start: 1,604,455,719.8969  ---  deltaT: 7.2979  ---  ips: 54810\n",
    "wrkr_id: w2  ---  b4i_start: 1,604,455,719.8978  ---  deltaT: 7.2715  ---  ips: 55009\n",
    "wrkr_id: w3  ---  b4i_start: 1,604,455,719.8976  ---  deltaT: 7.2848  ---  ips: 54908\n",
    "wrkr_id: w4  ---  b4i_start: 1,604,455,719.8979  ---  deltaT: 7.2146  ---  ips: 55443\n",
    "wrkr_id: w5  ---  b4i_start: 1,604,455,719.8967  ---  deltaT: 7.2641  ---  ips: 55065\n",
    "wrkr_id: w6  ---  b4i_start: 1,604,455,719.8980  ---  deltaT: 7.2996  ---  ips: 54797\n",
    "wrkr_id: w7  ---  b4i_start: 1,604,455,719.8986  ---  deltaT: 7.2766  ---  ips: 54970\n",
    "\n",
    "\n",
    "# NOTES:\n",
    "- pg container used up to 470% CPU\n",
    "\n",
    "\n",
    "\n",
    "# -------------------------------------------------------------------------------------------------\n",
    "# -------------------------------------------------------------------------------------------------\n",
    "==================== benchmark results: \n",
    "num wrkrs: 6\n",
    "records per wrkr: 400,000\n",
    "Actual records in xb_bench1 table: 2,400,000\n",
    "\n",
    "*** Sum of syncd wrkr ips  : 418,291\n",
    "\n",
    "==================== worker info: \n",
    "wrkr_id: w0  ---  b4i_start: 1,604,455,976.3896  ---  deltaT: 5.7290  ---  ips: 69820\n",
    "wrkr_id: w1  ---  b4i_start: 1,604,455,976.3893  ---  deltaT: 5.7637  ---  ips: 69399\n",
    "wrkr_id: w2  ---  b4i_start: 1,604,455,976.3891  ---  deltaT: 5.7268  ---  ips: 69846\n",
    "wrkr_id: w3  ---  b4i_start: 1,604,455,976.3902  ---  deltaT: 5.7965  ---  ips: 69006\n",
    "wrkr_id: w4  ---  b4i_start: 1,604,455,976.3906  ---  deltaT: 5.7159  ---  ips: 69980\n",
    "wrkr_id: w5  ---  b4i_start: 1,604,455,976.3902  ---  deltaT: 5.6951  ---  ips: 70236\n",
    "\n",
    "# NOTES:\n",
    "- pg container used up to 380% CPU\n",
    "\n",
    "\n",
    "\n",
    "# -------------------------------------------------------------------------------------------------\n",
    "# -------------------------------------------------------------------------------------------------\n",
    "==================== benchmark results: \n",
    "num wrkrs: 4\n",
    "records per wrkr: 400,000\n",
    "Actual records in xb_bench1 table: 1,600,000\n",
    "\n",
    "*** Sum of syncd wrkr ips  : 347,043\n",
    "\n",
    "==================== worker info: \n",
    "wrkr_id: w0  ---  b4i_start: 1,604,456,474.8659  ---  deltaT: 4.5433  ---  ips: 88042\n",
    "wrkr_id: w1  ---  b4i_start: 1,604,456,474.8662  ---  deltaT: 4.6447  ---  ips: 86120\n",
    "wrkr_id: w2  ---  b4i_start: 1,604,456,474.8653  ---  deltaT: 4.6783  ---  ips: 85500\n",
    "wrkr_id: w3  ---  b4i_start: 1,604,456,474.8663  ---  deltaT: 4.5777  ---  ips: 87380\n",
    "\n",
    "# NOTES:\n",
    "- pg container used up to 260% CPU\n",
    "\n",
    "\n",
    "\n",
    "# -------------------------------------------------------------------------------------------------\n",
    "# -------------------------------------------------------------------------------------------------\n",
    "==================== benchmark results: \n",
    "num wrkrs: 3\n",
    "records per wrkr: 400,000\n",
    "Actual records in xb_bench1 table: 1,200,000\n",
    "\n",
    "*** Sum of syncd wrkr ips  : 291,938\n",
    "\n",
    "==================== worker info: \n",
    "wrkr_id: w0 -- b4i_start: 1,604,456,678.3362 -- deltaT: 4.1210 -- ips: 97063\n",
    "wrkr_id: w1 -- b4i_start: 1,604,456,678.3367 -- deltaT: 4.0900 -- ips: 97798\n",
    "wrkr_id: w2 -- b4i_start: 1,604,456,678.3368 -- deltaT: 4.1205 -- ips: 97076\n",
    "\n",
    "# NOTES:\n",
    "- pg container used up to 200% CPU\n",
    "\n",
    "\n",
    "\n",
    "# -------------------------------------------------------------------------------------------------\n",
    "# -------------------------------------------------------------------------------------------------\n",
    "==================== benchmark results: \n",
    "num wrkrs: 2\n",
    "records per wrkr: 400,000\n",
    "Actual records in xb_bench1 table: 800,000\n",
    "\n",
    "*** Sum of syncd wrkr ips  : 200,876\n",
    "\n",
    "==================== worker info: \n",
    "wrkr_id: w0 -- b4i_start: 1,604,456,723.3091 -- deltaT: 3.8668 -- ips: 103444\n",
    "wrkr_id: w1 -- b4i_start: 1,604,456,723.3093 -- deltaT: 4.1055 -- ips: 97431\n",
    "\n",
    "# NOTES:\n",
    "- pg container used up to  133% CPU\n",
    "\n",
    "\n",
    "\n",
    "# -------------------------------------------------------------------------------------------------\n",
    "# -------------------------------------------------------------------------------------------------\n",
    "==================== benchmark results: \n",
    "num wrkrs: 1\n",
    "records per wrkr: 400,000\n",
    "Actual records in xb_bench1 table: 400,000\n",
    "\n",
    "*** Sum of syncd wrkr ips  : 106,397\n",
    "\n",
    "==================== worker info: \n",
    "wrkr_id: w0 -- b4i_start: 1,604,456,738.2717 -- deltaT: 3.7595 -- ips: 106397\n",
    "\n",
    "# NOTES:\n",
    "- pg container used up to  65% CPU\n",
    "\n",
    "\n",
    "\n",
    "```"
   ]
  },
  {
   "cell_type": "code",
   "execution_count": null,
   "metadata": {},
   "outputs": [],
   "source": []
  },
  {
   "cell_type": "code",
   "execution_count": null,
   "metadata": {},
   "outputs": [],
   "source": []
  },
  {
   "cell_type": "markdown",
   "metadata": {},
   "source": [
    "---\n",
    "# PPX results over network\n",
    "\n",
    "- client: ryzen 2700x, 32GB ram, .... gigabit network\n",
    "- server: 8 cores vm ryzen 1700x, 12GB ram gigabit network"
   ]
  },
  {
   "cell_type": "markdown",
   "metadata": {},
   "source": [
    "---\n",
    "dsdsa"
   ]
  },
  {
   "cell_type": "code",
   "execution_count": null,
   "metadata": {},
   "outputs": [],
   "source": []
  },
  {
   "cell_type": "code",
   "execution_count": null,
   "metadata": {},
   "outputs": [],
   "source": []
  },
  {
   "cell_type": "code",
   "execution_count": null,
   "metadata": {},
   "outputs": [],
   "source": []
  },
  {
   "cell_type": "code",
   "execution_count": null,
   "metadata": {},
   "outputs": [],
   "source": []
  },
  {
   "cell_type": "code",
   "execution_count": null,
   "metadata": {},
   "outputs": [],
   "source": []
  },
  {
   "cell_type": "code",
   "execution_count": null,
   "metadata": {},
   "outputs": [],
   "source": []
  },
  {
   "cell_type": "markdown",
   "metadata": {},
   "source": [
    "\n",
    "## ThreadPoolExeccutor"
   ]
  },
  {
   "cell_type": "code",
   "execution_count": null,
   "metadata": {},
   "outputs": [],
   "source": []
  },
  {
   "cell_type": "code",
   "execution_count": null,
   "metadata": {},
   "outputs": [],
   "source": []
  },
  {
   "cell_type": "code",
   "execution_count": null,
   "metadata": {},
   "outputs": [],
   "source": []
  },
  {
   "cell_type": "code",
   "execution_count": null,
   "metadata": {},
   "outputs": [],
   "source": []
  },
  {
   "cell_type": "code",
   "execution_count": null,
   "metadata": {},
   "outputs": [],
   "source": []
  },
  {
   "cell_type": "code",
   "execution_count": null,
   "metadata": {},
   "outputs": [],
   "source": []
  },
  {
   "cell_type": "code",
   "execution_count": null,
   "metadata": {},
   "outputs": [],
   "source": []
  },
  {
   "cell_type": "code",
   "execution_count": null,
   "metadata": {},
   "outputs": [],
   "source": []
  },
  {
   "cell_type": "code",
   "execution_count": null,
   "metadata": {},
   "outputs": [],
   "source": []
  },
  {
   "cell_type": "code",
   "execution_count": null,
   "metadata": {},
   "outputs": [],
   "source": []
  },
  {
   "cell_type": "code",
   "execution_count": null,
   "metadata": {},
   "outputs": [],
   "source": []
  },
  {
   "cell_type": "code",
   "execution_count": null,
   "metadata": {},
   "outputs": [],
   "source": []
  },
  {
   "cell_type": "code",
   "execution_count": null,
   "metadata": {},
   "outputs": [],
   "source": []
  },
  {
   "cell_type": "code",
   "execution_count": null,
   "metadata": {},
   "outputs": [],
   "source": []
  },
  {
   "cell_type": "code",
   "execution_count": null,
   "metadata": {},
   "outputs": [],
   "source": []
  },
  {
   "cell_type": "code",
   "execution_count": null,
   "metadata": {},
   "outputs": [],
   "source": []
  },
  {
   "cell_type": "code",
   "execution_count": null,
   "metadata": {},
   "outputs": [],
   "source": []
  },
  {
   "cell_type": "code",
   "execution_count": null,
   "metadata": {},
   "outputs": [],
   "source": []
  },
  {
   "cell_type": "code",
   "execution_count": null,
   "metadata": {},
   "outputs": [],
   "source": []
  },
  {
   "cell_type": "code",
   "execution_count": null,
   "metadata": {},
   "outputs": [],
   "source": []
  },
  {
   "cell_type": "code",
   "execution_count": null,
   "metadata": {},
   "outputs": [],
   "source": []
  },
  {
   "cell_type": "code",
   "execution_count": null,
   "metadata": {},
   "outputs": [],
   "source": []
  },
  {
   "cell_type": "code",
   "execution_count": null,
   "metadata": {},
   "outputs": [],
   "source": []
  },
  {
   "cell_type": "code",
   "execution_count": null,
   "metadata": {},
   "outputs": [],
   "source": []
  },
  {
   "cell_type": "code",
   "execution_count": null,
   "metadata": {},
   "outputs": [],
   "source": []
  }
 ],
 "metadata": {
  "kernelspec": {
   "display_name": "Python 3.6.9 64-bit",
   "language": "python",
   "name": "python36964bit6486db22bd404319aca96f84d42312c3"
  },
  "language_info": {
   "codemirror_mode": {
    "name": "ipython",
    "version": 3
   },
   "file_extension": ".py",
   "mimetype": "text/x-python",
   "name": "python",
   "nbconvert_exporter": "python",
   "pygments_lexer": "ipython3",
   "version": "3.6.9"
  }
 },
 "nbformat": 4,
 "nbformat_minor": 4
}
