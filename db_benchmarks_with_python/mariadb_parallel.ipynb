{
 "cells": [
  {
   "cell_type": "code",
   "execution_count": 1,
   "metadata": {},
   "outputs": [],
   "source": [
    "import os\n",
    "import sys\n",
    "import subprocess as sp\n",
    "import json\n",
    "import random\n",
    "import time\n",
    "import hashlib\n",
    "import base64\n",
    "from contextlib import closing\n",
    "from dataclasses import dataclass\n",
    "import typing\n",
    "\n",
    "import multiprocessing\n",
    "\n",
    "# use multiprocessing.Manager() to get a Barrier instead for PPX\n",
    "# from multiprocessing import Barrier\n",
    "\n",
    "from concurrent.futures.thread import ThreadPoolExecutor\n",
    "from concurrent.futures.process import ProcessPoolExecutor\n",
    "\n",
    "import mariadb\n",
    "import mariadb.constants.CLIENT\n",
    "import pymysql\n",
    "import pymysql.constants.CLIENT\n"
   ]
  },
  {
   "cell_type": "markdown",
   "metadata": {},
   "source": [
    "### Get a quick mariadb instance:\n",
    "---\n",
    "\n",
    "```bash\n",
    "\n",
    "docker run --rm -it --name m105 --cpus 8 --network host -e MYSQL_ROOT_PASSWORD=bobz1234 \\\n",
    "--tmpfs /mem_vol/ mariadb:10.5 --datadir='/mem_vol' --port=10306 --innodb-buffer-pool-size=8GB\n",
    "\n",
    "# sync off, ie a reporting db:\n",
    "docker run --rm -it --name m105 --cpus 8 --network host -e MYSQL_ROOT_PASSWORD=bobz1234 \\\n",
    "--tmpfs /mem_vol/ mariadb:10.5 --datadir='/mem_vol' --port=10306 --innodb-buffer-pool-size=8GB \\\n",
    "--innodb-flush-log-at-trx-commit=2 --sync-binlog=0\n",
    "\n",
    "```"
   ]
  },
  {
   "cell_type": "code",
   "execution_count": null,
   "metadata": {},
   "outputs": [],
   "source": []
  },
  {
   "cell_type": "code",
   "execution_count": 2,
   "metadata": {},
   "outputs": [],
   "source": [
    "_DB_INFO = {\n",
    "    \n",
    "    \"host\": \"127.0.0.1\",\n",
    "    \"port\": 10306,\n",
    "    \n",
    "    # \"unix_socket\": \"/var/run/mysqld/mysqld.sock\",\n",
    "    # \"unix_socket\": \"/run/mysqld/mysqld.sock\",\n",
    "\n",
    "    \"user\": \"root\",\n",
    "    \"password\": \"bobz1234\",\n",
    "    \n",
    "    \"database\": \"mysql\",\n",
    "\n",
    "    # Allow cur.execute to execute multiple statements\n",
    "    \"client_flag\": pymysql.constants.CLIENT.MULTI_STATEMENTS\n",
    "}"
   ]
  },
  {
   "cell_type": "code",
   "execution_count": 30,
   "metadata": {},
   "outputs": [
    {
     "name": "stdout",
     "output_type": "stream",
     "text": [
      "pymy autocommit status: True\n"
     ]
    }
   ],
   "source": [
    "pymy_conn = pymysql.connect(**_DB_INFO)\n",
    "pymy_conn.autocommit(True)\n",
    "print(f\"pymy autocommit status: {pymy_conn.autocommit_mode}\")"
   ]
  },
  {
   "cell_type": "code",
   "execution_count": 31,
   "metadata": {},
   "outputs": [],
   "source": [
    "pymy_cur = pymy_conn.cursor()"
   ]
  },
  {
   "cell_type": "code",
   "execution_count": 5,
   "metadata": {},
   "outputs": [],
   "source": [
    "with pymy_conn.cursor() as tmp_cur:\n",
    "    tmp_cur.execute('SELECT 1;')"
   ]
  },
  {
   "cell_type": "markdown",
   "metadata": {},
   "source": [
    "# Some test queries"
   ]
  },
  {
   "cell_type": "code",
   "execution_count": 6,
   "metadata": {},
   "outputs": [],
   "source": [
    "def exec_q(q):\n",
    "    with closing(pymy_conn.cursor()) as tmp_cur:\n",
    "        tmp_cur.execute(q)\n",
    "        \n",
    "        col_names = []\n",
    "        if tmp_cur.description:\n",
    "            for desc in tmp_cur.description:\n",
    "                col_names.append(desc[0])\n",
    "        if col_names:\n",
    "            hdr = \"|\".join(col_names)\n",
    "            print(hdr)\n",
    "            print('-' * len(hdr))\n",
    "        \n",
    "        # rows\n",
    "        results = tmp_cur.fetchall()\n",
    "        if results:\n",
    "            for row in results:\n",
    "                print(row)\n",
    "        # sep\n",
    "        print(\"\")\n"
   ]
  },
  {
   "cell_type": "code",
   "execution_count": 7,
   "metadata": {},
   "outputs": [
    {
     "name": "stdout",
     "output_type": "stream",
     "text": [
      "Database\n",
      "--------\n",
      "('information_schema',)\n",
      "('mysql',)\n",
      "('performance_schema',)\n",
      "\n",
      "\n",
      "innodb_buffer_MB\n",
      "----------------\n",
      "(Decimal('8192.0000'),)\n",
      "\n"
     ]
    }
   ],
   "source": [
    "exec_q(\"SHOW DATABASES;\")\n",
    "print(\"\")\n",
    "exec_q(\"SELECT @@innodb_buffer_pool_size / (1024*1024) AS innodb_buffer_MB;\")"
   ]
  },
  {
   "cell_type": "code",
   "execution_count": null,
   "metadata": {},
   "outputs": [],
   "source": []
  },
  {
   "cell_type": "markdown",
   "metadata": {},
   "source": [
    "# Generate sample "
   ]
  },
  {
   "cell_type": "code",
   "execution_count": 8,
   "metadata": {},
   "outputs": [],
   "source": [
    "# mariadb INT and int32 is usually ranged: -2 147 483 648 to 2 147 483 647\n",
    "def get_random_int32():\n",
    "    tmp = 2 * 1000 * 1000 * 1000\n",
    "    return random.randint(0, tmp)\n",
    "\n",
    "def get_random_int64():\n",
    "    tmp = 80 * 1000 * 1000 * 1000 * 1000\n",
    "    return random.randint(0, tmp)\n",
    "\n",
    "def get_random_str(str_len=48):\n",
    "    assert isinstance(str_len, int)\n",
    "    assert str_len < 8192\n",
    "    return base64.b64encode(os.urandom(str_len), altchars=b\"AZ\").decode('ascii')"
   ]
  },
  {
   "cell_type": "code",
   "execution_count": 9,
   "metadata": {},
   "outputs": [
    {
     "name": "stdout",
     "output_type": "stream",
     "text": [
      "('EtQE7bzfZiLUeJ8sM8Dp3KAPlAxL0LDuhP4CzZN6AVLXoeZkxLg8WVnZHKaw7QGk', 1728198644)\n",
      "('xnrqGGvAHc7LvpECIZAA2y1ygqoccq6bwcypRXCvEhHs2WQxRmq5iFwiAGBLn0Q1', 630537093)\n",
      "('LP5IUOGqUBQtAtSyfYrUuwTsiToZTqvi9AhVKVrRChUzcO2PJPuqNBZd0zBEUNQC', 171514377)\n"
     ]
    }
   ],
   "source": [
    "# demo records\n",
    "for _ in range(3):\n",
    "    print((get_random_str(48), get_random_int32()))"
   ]
  },
  {
   "cell_type": "code",
   "execution_count": null,
   "metadata": {},
   "outputs": [],
   "source": []
  },
  {
   "cell_type": "markdown",
   "metadata": {},
   "source": [
    "# Create BENCHMARK tables"
   ]
  },
  {
   "cell_type": "code",
   "execution_count": 25,
   "metadata": {},
   "outputs": [],
   "source": [
    "refresh_schema_q = \"\"\"\n",
    "DROP TABLE IF EXISTS xb_bench1;\n",
    "DROP TABLE IF EXISTS xb_bench2;\n",
    "\n",
    "CREATE TABLE IF NOT EXISTS xb_bench1(\n",
    "     brid INT NOT NULL AUTO_INCREMENT,\n",
    "     val_1 CHAR(64) NOT NULL,\n",
    "     num_1 INT NOT NULL,   \n",
    "     PRIMARY KEY (brid)\n",
    ");\n",
    "\n",
    "CREATE TABLE IF NOT EXISTS xb_bench2(\n",
    "     brid INT NOT NULL AUTO_INCREMENT,\n",
    "     val_1 VARCHAR(128) NOT NULL,\n",
    "     num_1 INT NOT NULL,\n",
    "     PRIMARY KEY (brid)\n",
    ") AUTO_INCREMENT = 1000;\n",
    "\"\"\""
   ]
  },
  {
   "cell_type": "code",
   "execution_count": 26,
   "metadata": {},
   "outputs": [
    {
     "name": "stdout",
     "output_type": "stream",
     "text": [
      "\n"
     ]
    }
   ],
   "source": [
    "exec_q(refresh_schema_q)"
   ]
  },
  {
   "cell_type": "code",
   "execution_count": null,
   "metadata": {},
   "outputs": [],
   "source": []
  },
  {
   "cell_type": "markdown",
   "metadata": {},
   "source": [
    "---\n",
    "# sample inserts"
   ]
  },
  {
   "cell_type": "code",
   "execution_count": 12,
   "metadata": {},
   "outputs": [
    {
     "name": "stdout",
     "output_type": "stream",
     "text": [
      "brid|val_1|num_1\n",
      "----------------\n",
      "(1000, 'Q8M5rzhQveJJClZAGhXtNmWCgRm2ETnSeZb2KdXy1vDVlnj3tYOlOZulh2Fc7T1p', 2120724)\n",
      "(1001, 'TBNJcNiuZAbLTnDdEMGvhYsG3D2x9UjOnJ9jBEmlzs0IaawWmCN9AnsLlheQ2vpv', 2020921)\n",
      "\n",
      "\n",
      "----- db clean again:\n",
      "\n",
      "brid|val_1|num_1\n",
      "----------------\n",
      "\n"
     ]
    }
   ],
   "source": [
    "# ------------------------------------- execute\n",
    "\n",
    "test_q = \"\"\" INSERT INTO xb_bench1(val_1, num_1) VALUES \n",
    "('Q8M5rzhQveJJClZAGhXtNmWCgRm2ETnSeZb2KdXy1vDVlnj3tYOlOZulh2Fc7T1p', '2120724'),\n",
    "('TBNJcNiuZAbLTnDdEMGvhYsG3D2x9UjOnJ9jBEmlzs0IaawWmCN9AnsLlheQ2vpv', '2020921');\n",
    "\"\"\"\n",
    "with pymy_conn.cursor() as tmp_cur:\n",
    "    tmp_cur.execute(test_q)\n",
    "\n",
    "exec_q(\"SELECT * FROM xb_bench1;\")\n",
    "exec_q(refresh_schema_q)\n",
    "\n",
    "print('----- db clean again:\\n')\n",
    "exec_q(\"SELECT * FROM xb_bench1;\")"
   ]
  },
  {
   "cell_type": "code",
   "execution_count": 23,
   "metadata": {},
   "outputs": [
    {
     "name": "stdout",
     "output_type": "stream",
     "text": [
      "brid|val_1|num_1\n",
      "----------------\n",
      "(401000, 'Y1PfeoYmPm64yXf83URekmNkq89W2uucHCrCJwcAFNudhpNZILSHbflPhP2KhZWy', 2120724)\n",
      "(401001, 'iAWZwnoskhrJdQGqpdZMCVY0mH0NNZyYTUWh9kvGrkxMoryX38pDfZJmBZsg1lVp', 7026371)\n",
      "(401002, 'ktpY84x1Yd11lYUUWxpyNHZlgZ8d0X8Xwwfxxd7efvMUAsAPKAtb8ohJXnrzlhXM', 3905237)\n",
      "\n",
      "\n",
      "----- db clean again:\n",
      "\n",
      "brid|val_1|num_1\n",
      "----------------\n",
      "\n"
     ]
    }
   ],
   "source": [
    "# ------------------------------------- executemany (very fast since mariadb 10.2 or 10.3)\n",
    "test_q = \"INSERT xb_bench1(val_1, num_1) VALUES (%s, %s);\"\n",
    "\n",
    "records = [\n",
    "    ('Y1PfeoYmPm64yXf83URekmNkq89W2uucHCrCJwcAFNudhpNZILSHbflPhP2KhZWy', '2120724'),\n",
    "    ('iAWZwnoskhrJdQGqpdZMCVY0mH0NNZyYTUWh9kvGrkxMoryX38pDfZJmBZsg1lVp', '7026371'),\n",
    "    ('ktpY84x1Yd11lYUUWxpyNHZlgZ8d0X8Xwwfxxd7efvMUAsAPKAtb8ohJXnrzlhXM', '3905237')\n",
    "]\n",
    "\n",
    "with pymy_conn.cursor() as tmp_cur:\n",
    "    tmp_cur.executemany(test_q, records)\n",
    "\n",
    "exec_q(\"SELECT * FROM xb_bench1;\")\n",
    "exec_q(refresh_schema_q)\n",
    "\n",
    "print('----- db clean again:\\n')\n",
    "exec_q(\"SELECT * FROM xb_bench1;\")\n"
   ]
  },
  {
   "cell_type": "code",
   "execution_count": null,
   "metadata": {},
   "outputs": [],
   "source": []
  },
  {
   "cell_type": "code",
   "execution_count": null,
   "metadata": {},
   "outputs": [],
   "source": []
  },
  {
   "cell_type": "markdown",
   "metadata": {},
   "source": [
    "---\n",
    "---\n",
    "---\n",
    "---\n",
    "---\n",
    "# Concurrent/Parallel Benchmarks:\n"
   ]
  },
  {
   "cell_type": "code",
   "execution_count": 14,
   "metadata": {},
   "outputs": [],
   "source": [
    "@dataclass(frozen=True)\n",
    "class BenchParams:\n",
    "    wrkr_id: str\n",
    "    db_info: dict\n",
    "    start_barrier: typing.Any\n",
    "    \n",
    "    # benchmark 4 ips (insertion per sec)\n",
    "    b4i_num_records: int\n"
   ]
  },
  {
   "cell_type": "code",
   "execution_count": 15,
   "metadata": {},
   "outputs": [],
   "source": [
    "@dataclass(frozen=True)\n",
    "class BenchResult:\n",
    "    wrkr_id: str\n",
    "    \n",
    "    wrkr_start_time: float\n",
    "    wrkr_end_time: float\n",
    "    \n",
    "    # benchmark for ips\n",
    "    b4i_start_time: float\n",
    "    b4i_end_time: float\n",
    "    \n",
    "    b4i_num_records: int\n",
    "    b4i_ips: int\n",
    "    \n",
    "    def __str__(self):\n",
    "        _deltaT = self.b4i_end_time - self.b4i_start_time\n",
    "        _ips = int(self.b4i_num_records / _deltaT)\n",
    "        _start = self.b4i_start_time\n",
    "        return f\"wrkr_id: {self.wrkr_id} -- b4i_start: {_start:,.4f} -- deltaT: {_deltaT:.4f} -- ips: {_ips}\""
   ]
  },
  {
   "cell_type": "code",
   "execution_count": 32,
   "metadata": {},
   "outputs": [],
   "source": [
    "class IPS_Benchmark:\n",
    "    def __init__(self, bp: BenchParams):\n",
    "        \n",
    "        self.bp = bp\n",
    "        \n",
    "        # ----- generate sample data:\n",
    "        self.b4i_data = []\n",
    "        for _ in range(bp.b4i_num_records):\n",
    "            # almost no diff between 48 or just 4 in ips\n",
    "            tmp_record = (get_random_str(48), get_random_int32())\n",
    "            self.b4i_data.append(tmp_record)\n",
    "        \n",
    "        # ----- connect to db\n",
    "        # NOTE pg vs mariadb autocommit is different.\n",
    "        self.db_conn = pymysql.connect(**bp.db_info)\n",
    "        self.db_conn.autocommit(True)\n",
    "        \n",
    "        print(f\"{bp.wrkr_id}: init compelete. time: {time.time():,.5f}\\n\", end=\"\")\n",
    "        \n",
    "    def run_b4i(self):\n",
    "        \n",
    "        with self.db_conn.cursor() as tmp_cur:\n",
    "            _q = \"INSERT INTO xb_bench1(val_1, num_1) VALUES (%s, %s);\"\n",
    "            tmp_cur.executemany(_q, self.b4i_data)\n",
    "        "
   ]
  },
  {
   "cell_type": "code",
   "execution_count": null,
   "metadata": {},
   "outputs": [],
   "source": []
  },
  {
   "cell_type": "code",
   "execution_count": 33,
   "metadata": {},
   "outputs": [],
   "source": [
    "def wrkr_entry(bp: BenchParams):\n",
    "    \n",
    "    _wrkr_start_time = time.time()\n",
    "    # print(f\"{bp.wrkr_id}: wrkr_entry() called. Time: {_wrkr_start_time:,.5f}\\n\", end=\"\")\n",
    "    bench = IPS_Benchmark(bp)\n",
    "    \n",
    "    # comment/uncomment sleep to simulate additional init delay\n",
    "    # time.sleep(1)\n",
    "    # synchronize all benchmarks to start at the same time. ie using a barrier\n",
    "    bp.start_barrier.wait()\n",
    "    \n",
    "    print(f\"{bp.wrkr_id} awoken. worker is passed barrier. time: {time.time():,.5f}\\n\", end=\"\")\n",
    "    _b4i_start_time = time.time()\n",
    "    bench.run_b4i()\n",
    "    _b4i_end_time = time.time()\n",
    "    \n",
    "    # calculate some benchmark stats for the returning result\n",
    "    _b4i_num_records = len(bench.b4i_data)\n",
    "    _b4i_ips = _b4i_num_records / (_b4i_end_time - _b4i_start_time)\n",
    "    \n",
    "    \n",
    "    bres = BenchResult(wrkr_id=bp.wrkr_id, wrkr_start_time=_wrkr_start_time, wrkr_end_time=time.time(),\n",
    "                       b4i_start_time=_b4i_start_time, b4i_end_time=_b4i_end_time,\n",
    "                       b4i_num_records=_b4i_num_records, b4i_ips=_b4i_ips)\n",
    "    \n",
    "    return bres"
   ]
  },
  {
   "cell_type": "code",
   "execution_count": null,
   "metadata": {},
   "outputs": [],
   "source": [
    "\n",
    "    "
   ]
  },
  {
   "cell_type": "code",
   "execution_count": null,
   "metadata": {},
   "outputs": [],
   "source": []
  },
  {
   "cell_type": "markdown",
   "metadata": {},
   "source": [
    "---\n",
    "---\n",
    "---\n",
    "# ProcessPoolExecutor\n"
   ]
  },
  {
   "cell_type": "code",
   "execution_count": 46,
   "metadata": {},
   "outputs": [
    {
     "name": "stdout",
     "output_type": "stream",
     "text": [
      "db refreshed. rdy 4 benchmark.\n",
      "w3: init compelete. time: 1,604,573,845.49063\n",
      "w9: init compelete. time: 1,604,573,845.60427\n",
      "w0: init compelete. time: 1,604,573,845.61847\n",
      "w1: init compelete. time: 1,604,573,845.78462\n",
      "w5: init compelete. time: 1,604,573,845.80739\n",
      "w15: init compelete. time: 1,604,573,845.83226\n",
      "w10: init compelete. time: 1,604,573,845.85471\n",
      "w13: init compelete. time: 1,604,573,845.97487\n",
      "w7: init compelete. time: 1,604,573,845.98565\n",
      "w8: init compelete. time: 1,604,573,846.01328\n",
      "w2: init compelete. time: 1,604,573,846.01429\n",
      "w14: init compelete. time: 1,604,573,846.03797\n",
      "w6: init compelete. time: 1,604,573,846.04583\n",
      "w4: init compelete. time: 1,604,573,846.05845\n",
      "w11: init compelete. time: 1,604,573,846.06418\n",
      "w12: init compelete. time: 1,604,573,846.13721\n",
      "w12 awoken. worker is passed barrier. time: 1,604,573,846.13954\n",
      "w7 awoken. worker is passed barrier. time: 1,604,573,846.13989\n",
      "w0 awoken. worker is passed barrier. time: 1,604,573,846.13971\n",
      "w14 awoken. worker is passed barrier. time: 1,604,573,846.14006\n",
      "w3 awoken. worker is passed barrier. time: 1,604,573,846.13970\n",
      "w6 awoken. worker is passed barrier. time: 1,604,573,846.14001\n",
      "w15 awoken. worker is passed barrier. time: 1,604,573,846.13980\n",
      "w10 awoken. worker is passed barrier. time: 1,604,573,846.13992\n",
      "w5 awoken. worker is passed barrier. time: 1,604,573,846.13978\n",
      "w1 awoken. worker is passed barrier. time: 1,604,573,846.13962\n",
      "w8 awoken. worker is passed barrier. time: 1,604,573,846.13997\n",
      "w4 awoken. worker is passed barrier. time: 1,604,573,846.14057\n",
      "w13 awoken. worker is passed barrier. time: 1,604,573,846.13988\n",
      "w11 awoken. worker is passed barrier. time: 1,604,573,846.14043\n",
      "w2 awoken. worker is passed barrier. time: 1,604,573,846.14011\n",
      "w9 awoken. worker is passed barrier. time: 1,604,573,846.14067\n",
      "\n",
      "# -------------------------------------------------------------------------------------------------\n",
      "# -------------------------------------------------------------------------------------------------\n",
      "==================== benchmark results: \n",
      "num wrkrs: 16\n",
      "records per wrkr: 800,000\n",
      "Actual records in xb_bench1 table: 12800000\n",
      "\n",
      "*** Sum of syncd wrkr ips  : 243,142\n",
      "\n",
      "==================== worker info: \n",
      "wrkr_id: w0 -- b4i_start: 1,604,573,846.1418 -- deltaT: 52.7176 -- ips: 15175\n",
      "wrkr_id: w1 -- b4i_start: 1,604,573,846.1434 -- deltaT: 52.9106 -- ips: 15119\n",
      "wrkr_id: w2 -- b4i_start: 1,604,573,846.1621 -- deltaT: 53.0726 -- ips: 15073\n",
      "wrkr_id: w3 -- b4i_start: 1,604,573,846.1420 -- deltaT: 52.9379 -- ips: 15112\n",
      "wrkr_id: w4 -- b4i_start: 1,604,573,846.1436 -- deltaT: 52.8909 -- ips: 15125\n",
      "wrkr_id: w5 -- b4i_start: 1,604,573,846.1430 -- deltaT: 50.7058 -- ips: 15777\n",
      "wrkr_id: w6 -- b4i_start: 1,604,573,846.1421 -- deltaT: 53.1678 -- ips: 15046\n",
      "wrkr_id: w7 -- b4i_start: 1,604,573,846.1417 -- deltaT: 53.1269 -- ips: 15058\n",
      "wrkr_id: w8 -- b4i_start: 1,604,573,846.1432 -- deltaT: 52.8148 -- ips: 15147\n",
      "wrkr_id: w9 -- b4i_start: 1,604,573,846.1451 -- deltaT: 52.7520 -- ips: 15165\n",
      "wrkr_id: w10 -- b4i_start: 1,604,573,846.1428 -- deltaT: 52.9274 -- ips: 15115\n",
      "wrkr_id: w11 -- b4i_start: 1,604,573,846.1440 -- deltaT: 53.1884 -- ips: 15040\n",
      "wrkr_id: w12 -- b4i_start: 1,604,573,846.1412 -- deltaT: 53.0406 -- ips: 15082\n",
      "wrkr_id: w13 -- b4i_start: 1,604,573,846.1662 -- deltaT: 52.1561 -- ips: 15338\n",
      "wrkr_id: w14 -- b4i_start: 1,604,573,846.1421 -- deltaT: 51.1810 -- ips: 15630\n",
      "wrkr_id: w15 -- b4i_start: 1,604,573,846.1426 -- deltaT: 52.8643 -- ips: 15133\n"
     ]
    }
   ],
   "source": [
    "# ------------------------------------------------ lets go w/ option1: map and iterate results\n",
    "# option 2 would be\n",
    "# futures.append( ... submit() ...)\n",
    "# wait(futures)\n",
    "\n",
    "# ----------------------------------------- benchmark knobs\n",
    "ppx_worker_count = 16\n",
    "ppx_num_rows = 800 * 1000\n",
    "\n",
    "# prep db \n",
    "with pymy_conn.cursor() as tmp_cur:\n",
    "    tmp_cur.execute(refresh_schema_q)\n",
    "\n",
    "print('db refreshed. rdy 4 benchmark.')\n",
    "\n",
    "mgr = multiprocessing.Manager()\n",
    "ppx_bar = mgr.Barrier(ppx_worker_count)\n",
    "# ppx_bar = None\n",
    "\n",
    "worker_args = []\n",
    "for i in range(ppx_worker_count):\n",
    "    bp = BenchParams(wrkr_id=f'w{i}', b4i_num_records=ppx_num_rows, db_info=_DB_INFO, start_barrier=ppx_bar)\n",
    "    worker_args.append(bp)\n",
    "\n",
    "# results\n",
    "ppx_waited_results = []\n",
    "\n",
    "# make ppx and run \n",
    "# master time is worthless, we are generating mock data in init, dont measure it, needless complexity\n",
    "with ProcessPoolExecutor(max_workers=ppx_worker_count) as ppx:\n",
    "    map_res_iterator = ppx.map(wrkr_entry, worker_args)\n",
    "    for res in map_res_iterator:\n",
    "        ppx_waited_results.append(res)\n",
    "\n",
    "# \n",
    "print(\"\")\n",
    "print('# ' + '-' * 97)\n",
    "print('# ' + '-' * 97)\n",
    "\n",
    "print('=' * 20 + \" benchmark results: \")\n",
    "total_inserted_records = sum([res.b4i_num_records for res in ppx_waited_results])\n",
    "b4i_workers_ips_sum = int(sum([res.b4i_ips for res in ppx_waited_results]))\n",
    "\n",
    "# (includes record generation, db connect, sync, ...)\n",
    "print(f\"num wrkrs: {ppx_worker_count}\")\n",
    "print(f\"records per wrkr: {ppx_num_rows:,}\")\n",
    "\n",
    "with pymy_conn.cursor() as tmp_cur:\n",
    "    tmp_cur.execute('SELECT count(*) FROM xb_bench1;')\n",
    "    print(f\"Actual records in xb_bench1 table: {tmp_cur.fetchone()[0]}\")\n",
    "    \n",
    "    # drop tables so it doesnt go and try to resolve WAL and what not.\n",
    "    tmp_cur.execute(refresh_schema_q)\n",
    "\n",
    "# print(\"\\n\")\n",
    "# exec_q('SELECT count(*) FROM xb_bench1;')\n",
    "\n",
    "# \n",
    "print(f\"\\n*** Sum of syncd wrkr ips  : {b4i_workers_ips_sum:,}\")\n",
    "\n",
    "print('\\n' + '=' * 20 + \" worker info: \")\n",
    "for res in ppx_waited_results:\n",
    "    print(res)"
   ]
  },
  {
   "cell_type": "code",
   "execution_count": null,
   "metadata": {},
   "outputs": [],
   "source": []
  },
  {
   "cell_type": "code",
   "execution_count": null,
   "metadata": {},
   "outputs": [],
   "source": []
  },
  {
   "cell_type": "code",
   "execution_count": null,
   "metadata": {},
   "outputs": [],
   "source": []
  },
  {
   "cell_type": "code",
   "execution_count": null,
   "metadata": {},
   "outputs": [],
   "source": []
  },
  {
   "cell_type": "code",
   "execution_count": null,
   "metadata": {},
   "outputs": [],
   "source": []
  },
  {
   "cell_type": "code",
   "execution_count": null,
   "metadata": {},
   "outputs": [],
   "source": []
  },
  {
   "cell_type": "code",
   "execution_count": null,
   "metadata": {},
   "outputs": [],
   "source": []
  },
  {
   "cell_type": "code",
   "execution_count": null,
   "metadata": {},
   "outputs": [],
   "source": []
  },
  {
   "cell_type": "markdown",
   "metadata": {},
   "source": [
    "---\n",
    "# PPX Results Dump"
   ]
  },
  {
   "cell_type": "markdown",
   "metadata": {},
   "source": [
    "```text\n",
    "\n",
    "# -------------------------------------------------------------------------------------------------\n",
    "# -------------------------------------------------------------------------------------------------\n",
    "# -------------------------------------------------------------------------------------------------\n",
    "# -------------------------------------------------------------------------------------------------\n",
    "# ---------------------------------------------- Ryzen 2700X, 32GB RAM, pg13 on dkr on tmpfs PGDATA\n",
    "\n",
    "\n",
    "# -------------------------------------------------------------------------------------------------\n",
    "# -------------------------------------------------------------------------------------------------\n",
    "==================== benchmark results: \n",
    "num wrkrs: 1\n",
    "records per wrkr: 800,000\n",
    "Actual records in xb_bench1 table: 800000\n",
    "\n",
    "*** Sum of syncd wrkr ips  : 108,672\n",
    "\n",
    "==================== worker info: \n",
    "wrkr_id: w0 -- b4i_start: 1,604,550,061.4414 -- deltaT: 7.3616 -- ips: 108672\n",
    "\n",
    "\n",
    "# NOTES:\n",
    "- CPU usage peaked 60% \n",
    "\n",
    "\n",
    "\n",
    "# -------------------------------------------------------------------------------------------------\n",
    "# -------------------------------------------------------------------------------------------------\n",
    "==================== benchmark results: \n",
    "num wrkrs: 2\n",
    "records per wrkr: 800,000\n",
    "Actual records in xb_bench1 table: 1600000\n",
    "\n",
    "*** Sum of syncd wrkr ips  : 205,187\n",
    "\n",
    "==================== worker info: \n",
    "wrkr_id: w0 -- b4i_start: 1,604,572,419.0069 -- deltaT: 7.7702 -- ips: 102957\n",
    "wrkr_id: w1 -- b4i_start: 1,604,572,419.0067 -- deltaT: 7.8255 -- ips: 102229\n",
    "\n",
    "\n",
    "# NOTES:\n",
    "- CPU usage peaked 125% \n",
    "\n",
    "\n",
    "\n",
    "# -------------------------------------------------------------------------------------------------\n",
    "# -------------------------------------------------------------------------------------------------\n",
    "==================== benchmark results: \n",
    "num wrkrs: 3\n",
    "records per wrkr: 800,000\n",
    "Actual records in xb_bench1 table: 2400000\n",
    "\n",
    "*** Sum of syncd wrkr ips  : 284,952\n",
    "\n",
    "==================== worker info: \n",
    "wrkr_id: w0 -- b4i_start: 1,604,572,491.0739 -- deltaT: 8.3825 -- ips: 95436\n",
    "wrkr_id: w1 -- b4i_start: 1,604,572,491.0736 -- deltaT: 8.4238 -- ips: 94968\n",
    "wrkr_id: w2 -- b4i_start: 1,604,572,491.0738 -- deltaT: 8.4613 -- ips: 94547\n",
    "\n",
    "\n",
    "# NOTES:\n",
    "- CPU usage peaked 190% \n",
    "\n",
    "\n",
    "\n",
    "# -------------------------------------------------------------------------------------------------\n",
    "# -------------------------------------------------------------------------------------------------\n",
    "==================== benchmark results: \n",
    "num wrkrs: 4\n",
    "records per wrkr: 800,000\n",
    "Actual records in xb_bench1 table: 3200000\n",
    "\n",
    "*** Sum of syncd wrkr ips  : 319,463\n",
    "\n",
    "==================== worker info: \n",
    "wrkr_id: w0 -- b4i_start: 1,604,572,543.2921 -- deltaT: 10.0073 -- ips: 79941\n",
    "wrkr_id: w1 -- b4i_start: 1,604,572,543.2922 -- deltaT: 10.0070 -- ips: 79943\n",
    "wrkr_id: w2 -- b4i_start: 1,604,572,543.2923 -- deltaT: 9.6003 -- ips: 83331\n",
    "wrkr_id: w3 -- b4i_start: 1,604,572,543.2920 -- deltaT: 10.4922 -- ips: 76246\n",
    "\n",
    "\n",
    "# NOTES:\n",
    "- CPU usage peaked 280% \n",
    "\n",
    "\n",
    "\n",
    "# -------------------------------------------------------------------------------------------------\n",
    "# -------------------------------------------------------------------------------------------------\n",
    "==================== benchmark results: \n",
    "num wrkrs: 6\n",
    "records per wrkr: 800,000\n",
    "Actual records in xb_bench1 table: 4800000\n",
    "\n",
    "*** Sum of syncd wrkr ips  : 340,144\n",
    "\n",
    "==================== worker info: \n",
    "wrkr_id: w0 -- b4i_start: 1,604,572,714.6970 -- deltaT: 13.9595 -- ips: 57308\n",
    "wrkr_id: w1 -- b4i_start: 1,604,572,714.6981 -- deltaT: 14.1477 -- ips: 56546\n",
    "wrkr_id: w2 -- b4i_start: 1,604,572,714.6978 -- deltaT: 13.6630 -- ips: 58552\n",
    "wrkr_id: w3 -- b4i_start: 1,604,572,714.6983 -- deltaT: 14.2618 -- ips: 56093\n",
    "wrkr_id: w4 -- b4i_start: 1,604,572,714.6985 -- deltaT: 14.4819 -- ips: 55241\n",
    "wrkr_id: w5 -- b4i_start: 1,604,572,714.6979 -- deltaT: 14.1839 -- ips: 56401\n",
    "\n",
    "\n",
    "# NOTES:\n",
    "- CPU usage peaked 450%\n",
    "\n",
    "\n",
    "\n",
    "# -------------------------------------------------------------------------------------------------\n",
    "# -------------------------------------------------------------------------------------------------\n",
    "==================== benchmark results: \n",
    "num wrkrs: 8\n",
    "records per wrkr: 800,000\n",
    "Actual records in xb_bench1 table: 6400000\n",
    "\n",
    "*** Sum of syncd wrkr ips  : 338,231\n",
    "\n",
    "==================== worker info: \n",
    "wrkr_id: w0 -- b4i_start: 1,604,572,837.3461 -- deltaT: 19.0272 -- ips: 42044\n",
    "wrkr_id: w1 -- b4i_start: 1,604,572,837.3462 -- deltaT: 18.6290 -- ips: 42943\n",
    "wrkr_id: w2 -- b4i_start: 1,604,572,837.3450 -- deltaT: 19.1973 -- ips: 41672\n",
    "wrkr_id: w3 -- b4i_start: 1,604,572,837.3458 -- deltaT: 18.7701 -- ips: 42621\n",
    "wrkr_id: w4 -- b4i_start: 1,604,572,837.3459 -- deltaT: 18.8317 -- ips: 42481\n",
    "wrkr_id: w5 -- b4i_start: 1,604,572,837.3465 -- deltaT: 18.9809 -- ips: 42147\n",
    "wrkr_id: w6 -- b4i_start: 1,604,572,837.3481 -- deltaT: 19.0360 -- ips: 42025\n",
    "wrkr_id: w7 -- b4i_start: 1,604,572,837.3464 -- deltaT: 18.9151 -- ips: 42294\n",
    "\n",
    "\n",
    "# NOTES:\n",
    "- CPU usage peaked 620% \n",
    "\n",
    "num wrkrs: 16\n",
    "records per wrkr: 800,000\n",
    "Actual records in xb_bench1 table: 12800000\n",
    "\n",
    "*** Sum of syncd wrkr ips  : 243,142\n",
    "\n",
    "==================== worker info: \n",
    "wrkr_id: w0 -- b4i_start: 1,604,573,846.1418 -- deltaT: 52.7176 -- ips: 15175\n",
    "wrkr_id: w1 -- b4i_start: 1,604,573,846.1434 -- deltaT: 52.9106 -- ips: 15119\n",
    "wrkr_id: w2 -- b4i_start: 1,604,573,846.1621 -- deltaT: 53.0726 -- ips: 15073\n",
    "wrkr_id: w3 -- b4i_start: 1,604,573,846.1420 -- deltaT: 52.9379 -- ips: 15112\n",
    "..... truncated .....\n",
    "\n",
    "# -------------------------------------------------------------------------------------------------\n",
    "# -------------------------------------------------------------------------------------------------\n",
    "Conclusions:\n",
    "- pg13 is a lot faster at ips than mariadb 10.5 at max IPS given the ryzen 2700x box.\n",
    "- its also more efficient on CPU. It reached higher IPS for same CPU usage.\n",
    "\n",
    "the best i got from mariadb was 340k ips w/ 4 workers. (w/ more workers equaling less perf)\n",
    "pg13 got upto 440k ips from 8 workers. (at which point its highly likely i was already long \n",
    "out of spare CPU, and deep into contention. there were 8 cores, 16 hyperthreads, but I was\n",
    "using 8 cores w. python and OS is using a ton to move all this data through TCP ....\n",
    "\n",
    "and this whole thing is unfair because pg maybe syncing to tmpfs way more often \n",
    "w/ 128MB shared buffers but innodb had its own 8GB innodb buffer pool which was never\n",
    "exceeded. tmpfs is memory and should be very fast but still, mdb might have an advantage\n",
    "here.\n",
    "\n",
    "- the ips fall off was pretty bad for both of them but maybe worse for mdb at 16 worker.\n",
    "mdb  down to 243k ips (from 340k peak)\n",
    "pg13 down to 342k ips (from 440k peak)\n",
    "\n",
    "\n",
    "\n",
    "```"
   ]
  },
  {
   "cell_type": "code",
   "execution_count": null,
   "metadata": {},
   "outputs": [],
   "source": []
  },
  {
   "cell_type": "code",
   "execution_count": null,
   "metadata": {},
   "outputs": [],
   "source": []
  },
  {
   "cell_type": "code",
   "execution_count": null,
   "metadata": {},
   "outputs": [],
   "source": []
  },
  {
   "cell_type": "code",
   "execution_count": null,
   "metadata": {},
   "outputs": [],
   "source": []
  },
  {
   "cell_type": "code",
   "execution_count": null,
   "metadata": {},
   "outputs": [],
   "source": []
  },
  {
   "cell_type": "code",
   "execution_count": null,
   "metadata": {},
   "outputs": [],
   "source": []
  },
  {
   "cell_type": "code",
   "execution_count": null,
   "metadata": {},
   "outputs": [],
   "source": []
  },
  {
   "cell_type": "code",
   "execution_count": null,
   "metadata": {},
   "outputs": [],
   "source": []
  },
  {
   "cell_type": "code",
   "execution_count": null,
   "metadata": {},
   "outputs": [],
   "source": []
  },
  {
   "cell_type": "code",
   "execution_count": null,
   "metadata": {},
   "outputs": [],
   "source": []
  },
  {
   "cell_type": "markdown",
   "metadata": {},
   "source": [
    "\n",
    "## ThreadPoolExeccutor"
   ]
  },
  {
   "cell_type": "code",
   "execution_count": null,
   "metadata": {},
   "outputs": [],
   "source": []
  },
  {
   "cell_type": "code",
   "execution_count": null,
   "metadata": {},
   "outputs": [],
   "source": []
  },
  {
   "cell_type": "code",
   "execution_count": null,
   "metadata": {},
   "outputs": [],
   "source": []
  },
  {
   "cell_type": "code",
   "execution_count": null,
   "metadata": {},
   "outputs": [],
   "source": []
  },
  {
   "cell_type": "code",
   "execution_count": null,
   "metadata": {},
   "outputs": [],
   "source": []
  },
  {
   "cell_type": "code",
   "execution_count": null,
   "metadata": {},
   "outputs": [],
   "source": []
  },
  {
   "cell_type": "code",
   "execution_count": null,
   "metadata": {},
   "outputs": [],
   "source": []
  },
  {
   "cell_type": "code",
   "execution_count": null,
   "metadata": {},
   "outputs": [],
   "source": []
  },
  {
   "cell_type": "code",
   "execution_count": null,
   "metadata": {},
   "outputs": [],
   "source": []
  },
  {
   "cell_type": "code",
   "execution_count": null,
   "metadata": {},
   "outputs": [],
   "source": []
  },
  {
   "cell_type": "code",
   "execution_count": null,
   "metadata": {},
   "outputs": [],
   "source": []
  },
  {
   "cell_type": "code",
   "execution_count": null,
   "metadata": {},
   "outputs": [],
   "source": []
  },
  {
   "cell_type": "code",
   "execution_count": null,
   "metadata": {},
   "outputs": [],
   "source": []
  },
  {
   "cell_type": "code",
   "execution_count": null,
   "metadata": {},
   "outputs": [],
   "source": []
  },
  {
   "cell_type": "code",
   "execution_count": null,
   "metadata": {},
   "outputs": [],
   "source": []
  },
  {
   "cell_type": "code",
   "execution_count": null,
   "metadata": {},
   "outputs": [],
   "source": []
  },
  {
   "cell_type": "code",
   "execution_count": null,
   "metadata": {},
   "outputs": [],
   "source": []
  },
  {
   "cell_type": "code",
   "execution_count": null,
   "metadata": {},
   "outputs": [],
   "source": []
  },
  {
   "cell_type": "code",
   "execution_count": null,
   "metadata": {},
   "outputs": [],
   "source": []
  },
  {
   "cell_type": "code",
   "execution_count": null,
   "metadata": {},
   "outputs": [],
   "source": []
  },
  {
   "cell_type": "code",
   "execution_count": null,
   "metadata": {},
   "outputs": [],
   "source": []
  },
  {
   "cell_type": "code",
   "execution_count": null,
   "metadata": {},
   "outputs": [],
   "source": []
  },
  {
   "cell_type": "code",
   "execution_count": null,
   "metadata": {},
   "outputs": [],
   "source": []
  },
  {
   "cell_type": "code",
   "execution_count": null,
   "metadata": {},
   "outputs": [],
   "source": []
  },
  {
   "cell_type": "code",
   "execution_count": null,
   "metadata": {},
   "outputs": [],
   "source": []
  }
 ],
 "metadata": {
  "kernelspec": {
   "display_name": "Python 3.6.9 64-bit",
   "language": "python",
   "name": "python36964bit6486db22bd404319aca96f84d42312c3"
  },
  "language_info": {
   "codemirror_mode": {
    "name": "ipython",
    "version": 3
   },
   "file_extension": ".py",
   "mimetype": "text/x-python",
   "name": "python",
   "nbconvert_exporter": "python",
   "pygments_lexer": "ipython3",
   "version": "3.6.9"
  }
 },
 "nbformat": 4,
 "nbformat_minor": 4
}
