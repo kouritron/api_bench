{
 "cells": [
  {
   "cell_type": "code",
   "execution_count": 1,
   "metadata": {},
   "outputs": [],
   "source": [
    "import os\n",
    "import sys\n",
    "import subprocess as sp\n",
    "import json\n",
    "import random\n",
    "import time\n",
    "import hashlib\n",
    "import base64\n",
    "from contextlib import closing\n",
    "\n",
    "import mariadb\n",
    "import mariadb.constants.CLIENT\n",
    "import pymysql\n",
    "import pymysql.constants.CLIENT"
   ]
  },
  {
   "cell_type": "markdown",
   "metadata": {},
   "source": [
    "### Get a quick mariadb instance:\n",
    "---\n",
    "\n",
    "```bash\n",
    "\n",
    "$ docker run --rm -it --name m105 --cpus 8 --network host -e MYSQL_ROOT_PASSWORD=bobz1234 \\\n",
    "--tmpfs /mem_vol/ mariadb:10.5 --datadir='/mem_vol' --port=10306 --innodb-buffer-pool-size=8GB\n",
    "\n",
    "# mem db + sync off, ie a reporting db:\n",
    "$ docker run --rm -it --name m105 --cpus 8 --network host -e MYSQL_ROOT_PASSWORD=bobz1234 \\\n",
    "--tmpfs /mem_vol/ mariadb:10.5 --datadir='/mem_vol' --port=10306 --innodb-buffer-pool-size=8GB \\\n",
    "--innodb-flush-log-at-trx-commit=2 --sync-binlog=0\n",
    "\n",
    "```"
   ]
  },
  {
   "cell_type": "code",
   "execution_count": 2,
   "metadata": {},
   "outputs": [],
   "source": [
    "# setting autocommit is diff between psycopg2, pymysql, or old mysql connector.\n",
    "# the 1st is psycopg2, the latter 4 pymysql:\n",
    "# dbconn.autocommit = True\n",
    "# dbconn.autocommit(True)"
   ]
  },
  {
   "cell_type": "code",
   "execution_count": null,
   "metadata": {},
   "outputs": [],
   "source": []
  },
  {
   "cell_type": "code",
   "execution_count": 3,
   "metadata": {},
   "outputs": [],
   "source": [
    "_CONN_INFO = {\n",
    "    \n",
    "    \"host\": \"127.0.0.1\",\n",
    "    \"port\": 10306,\n",
    "    \n",
    "    # \"unix_socket\": \"/var/run/mysqld/mysqld.sock\",\n",
    "    # \"unix_socket\": \"/run/mysqld/mysqld.sock\",\n",
    "\n",
    "    \"user\": \"root\",\n",
    "    \"password\": \"bobz1234\",\n",
    "    \n",
    "    \"database\": \"mysql\",\n",
    "}\n",
    "\n",
    "_PYMYSQL_CONN_INFO = _CONN_INFO.copy()\n",
    "_MARIADB_CONN_INFO = _CONN_INFO.copy()\n",
    "\n",
    "# allow cur.execute to execute multiple statements\n",
    "_PYMYSQL_CONN_INFO[\"client_flag\"] = pymysql.constants.CLIENT.MULTI_STATEMENTS\n",
    "_MARIADB_CONN_INFO[\"client_flag\"] = mariadb.constants.CLIENT.MULTI_STATEMENTS"
   ]
  },
  {
   "cell_type": "code",
   "execution_count": 4,
   "metadata": {},
   "outputs": [],
   "source": [
    "pymy_conn = pymysql.connect(**_PYMYSQL_CONN_INFO)"
   ]
  },
  {
   "cell_type": "code",
   "execution_count": 5,
   "metadata": {},
   "outputs": [],
   "source": [
    "mdb_conn = pymysql.connect(**_MARIADB_CONN_INFO)"
   ]
  },
  {
   "cell_type": "code",
   "execution_count": 6,
   "metadata": {},
   "outputs": [
    {
     "name": "stdout",
     "output_type": "stream",
     "text": [
      "<bound method Connection.autocommit of <pymysql.connections.Connection object at 0x7f43181c88d0>>\n",
      "pymy autocommit status: False\n",
      "pymy autocommit status: True\n",
      "mdb autocommit status: False\n",
      "mdb autocommit status: True\n"
     ]
    }
   ],
   "source": [
    "# autocommit info\n",
    "print(pymy_conn.autocommit)  # its a method not field.\n",
    "print(f\"pymy autocommit status: {pymy_conn.autocommit_mode}\")\n",
    "pymy_conn.autocommit(True)\n",
    "print(f\"pymy autocommit status: {pymy_conn.autocommit_mode}\")\n",
    "\n",
    "# mdb\n",
    "print(f\"mdb autocommit status: {mdb_conn.autocommit_mode}\")\n",
    "mdb_conn.autocommit(True)\n",
    "print(f\"mdb autocommit status: {mdb_conn.autocommit_mode}\")"
   ]
  },
  {
   "cell_type": "code",
   "execution_count": null,
   "metadata": {},
   "outputs": [],
   "source": []
  },
  {
   "cell_type": "code",
   "execution_count": 7,
   "metadata": {},
   "outputs": [],
   "source": [
    "def exec_q(q):\n",
    "    with closing(pymy_conn.cursor()) as tmp_cur:\n",
    "        tmp_cur.execute(q)\n",
    "        \n",
    "        col_names = []\n",
    "        if tmp_cur.description:\n",
    "            for desc in tmp_cur.description:\n",
    "                col_names.append(desc[0])\n",
    "        if col_names:\n",
    "            hdr = \"|\".join(col_names)\n",
    "            print(hdr)\n",
    "            print('-' * len(hdr))\n",
    "        \n",
    "        # rows\n",
    "        results = tmp_cur.fetchall()\n",
    "        if results:\n",
    "            for row in results:\n",
    "                print(row)\n",
    "        # sep\n",
    "        print(\"\")\n"
   ]
  },
  {
   "cell_type": "markdown",
   "metadata": {},
   "source": [
    "# Run some test queries"
   ]
  },
  {
   "cell_type": "code",
   "execution_count": 8,
   "metadata": {},
   "outputs": [
    {
     "name": "stdout",
     "output_type": "stream",
     "text": [
      "Database\n",
      "--------\n",
      "('information_schema',)\n",
      "('mysql',)\n",
      "('performance_schema',)\n",
      "\n"
     ]
    }
   ],
   "source": [
    "exec_q(\"SHOW DATABASES;\")"
   ]
  },
  {
   "cell_type": "code",
   "execution_count": 9,
   "metadata": {},
   "outputs": [
    {
     "name": "stdout",
     "output_type": "stream",
     "text": [
      "innodb_buffer_MB\n",
      "----------------\n",
      "(Decimal('8192.0000'),)\n",
      "\n"
     ]
    }
   ],
   "source": [
    "exec_q(\"SELECT @@innodb_buffer_pool_size / (1024*1024) AS innodb_buffer_MB;\")\n",
    "# exec_q(\"SELECT @@innodb_buffer_pool_size / (1024*1024*1024) AS innodb_buffer_GB;\")"
   ]
  },
  {
   "cell_type": "code",
   "execution_count": 10,
   "metadata": {},
   "outputs": [
    {
     "name": "stdout",
     "output_type": "stream",
     "text": [
      "@@SQL_MODE\n",
      "----------\n",
      "('STRICT_TRANS_TABLES,ERROR_FOR_DIVISION_BY_ZERO,NO_AUTO_CREATE_USER,NO_ENGINE_SUBSTITUTION',)\n",
      "\n",
      "@@GLOBAL.SQL_MODE\n",
      "-----------------\n",
      "('STRICT_TRANS_TABLES,ERROR_FOR_DIVISION_BY_ZERO,NO_AUTO_CREATE_USER,NO_ENGINE_SUBSTITUTION',)\n",
      "\n"
     ]
    }
   ],
   "source": [
    "exec_q(\"SELECT @@SQL_MODE;\")\n",
    "exec_q(\"SELECT @@GLOBAL.SQL_MODE\")"
   ]
  },
  {
   "cell_type": "markdown",
   "metadata": {},
   "source": [
    "# Generate sample "
   ]
  },
  {
   "cell_type": "code",
   "execution_count": 11,
   "metadata": {},
   "outputs": [],
   "source": [
    "# mariadb INT type is ranged: -2 147 483 648 to 2 147 483 647\n",
    "def get_random_int32():\n",
    "    tmp = 2 * 1000 * 1000 * 1000\n",
    "    return random.randint(0, tmp)\n",
    "\n",
    "def get_random_int64():\n",
    "    tmp = 80 * 1000 * 1000 * 1000 * 1000\n",
    "    return random.randint(0, tmp)\n",
    "\n",
    "def get_random_str(str_len=48):\n",
    "    assert isinstance(str_len, int)\n",
    "    assert str_len < 8192\n",
    "\n",
    "    return base64.b64encode(os.urandom(str_len), altchars=b\"AZ\").decode('ascii')"
   ]
  },
  {
   "cell_type": "code",
   "execution_count": 24,
   "metadata": {},
   "outputs": [
    {
     "name": "stdout",
     "output_type": "stream",
     "text": [
      "('G1MOZp2mIoB31ALG4AcRzin6c2Pm9EvMr8QeA1m85PpEAahpzRSucnIRfN1DZJp1', 1032680321)\n",
      "('idQ4yb2lqQcrrEbYZrBOkO0cGHGRgeBjfZ7MZEEFbK84dQb0N9qA6d4QvFYdDpZl', 1368615492)\n",
      "('djZSi0sAN06sy2CWG1TXtqxJkAiWqZ8GxAmkuw1oMjO6RKRCG809gTZmajSvJ37L', 1739498502)\n",
      "('lWAii7R74gkXbDaStIcJfTq7hwhj71pYTaaIHfYaoopYdD4yCjvyBbWy9Sd5ccWv', 1692318112)\n",
      "('fWlZts23keMDDgnKC9R3oD3ed1HqzFVlS6VZBcr1sE7HgN2tL2U7D3CeVYXukZec', 300110909)\n"
     ]
    }
   ],
   "source": [
    "tmp_table = []\n",
    "for _ in range(5):\n",
    "    tmp_table.append((get_random_str(48), get_random_int32()))\n",
    "\n",
    "for row in tmp_table:\n",
    "    print(row)"
   ]
  },
  {
   "cell_type": "code",
   "execution_count": 16,
   "metadata": {},
   "outputs": [
    {
     "data": {
      "text/plain": [
       "64"
      ]
     },
     "execution_count": 16,
     "metadata": {},
     "output_type": "execute_result"
    }
   ],
   "source": [
    "len('KCrOThHmQkH87ADoG0cpN5SyToCn3sA2un5I8JofDa4IEZL8pAHgmRgPzZoeArfn')"
   ]
  },
  {
   "cell_type": "code",
   "execution_count": null,
   "metadata": {},
   "outputs": [],
   "source": []
  },
  {
   "cell_type": "markdown",
   "metadata": {},
   "source": [
    "# Create BENCHMARK tables"
   ]
  },
  {
   "cell_type": "code",
   "execution_count": 29,
   "metadata": {},
   "outputs": [
    {
     "name": "stdout",
     "output_type": "stream",
     "text": [
      "\n"
     ]
    }
   ],
   "source": [
    "refresh_schema_q = \"\"\"\n",
    "DROP TABLE IF EXISTS xb_bench1;\n",
    "DROP TABLE IF EXISTS xb_bench2;\n",
    "\n",
    "CREATE TABLE IF NOT EXISTS xb_bench1(\n",
    "     brid INT NOT NULL AUTO_INCREMENT,\n",
    "     val_1 CHAR(64) NOT NULL,\n",
    "     num_1 INT NOT NULL,   \n",
    "     PRIMARY KEY (brid)\n",
    ") AUTO_INCREMENT = 1000;\n",
    "\n",
    "CREATE TABLE IF NOT EXISTS xb_bench2(\n",
    "     brid INT NOT NULL AUTO_INCREMENT,\n",
    "     val_1 VARCHAR(128) NOT NULL,\n",
    "     num_1 INT NOT NULL,\n",
    "     PRIMARY KEY (brid)\n",
    ") AUTO_INCREMENT = 1000;\n",
    "\"\"\"\n",
    "exec_q(refresh_schema_q)"
   ]
  },
  {
   "cell_type": "code",
   "execution_count": null,
   "metadata": {},
   "outputs": [],
   "source": []
  },
  {
   "cell_type": "code",
   "execution_count": 30,
   "metadata": {},
   "outputs": [],
   "source": [
    "# test insert some records"
   ]
  },
  {
   "cell_type": "code",
   "execution_count": 31,
   "metadata": {},
   "outputs": [],
   "source": [
    "pymy_cur = pymy_conn.cursor()"
   ]
  },
  {
   "cell_type": "code",
   "execution_count": 32,
   "metadata": {},
   "outputs": [
    {
     "data": {
      "text/plain": [
       "2"
      ]
     },
     "execution_count": 32,
     "metadata": {},
     "output_type": "execute_result"
    }
   ],
   "source": [
    "q = \"\"\" INSERT INTO xb_bench1(val_1, num_1) VALUES \n",
    "('Q8M5rzhQveJJClZAGhXtNmWCgRm2ETnSeZb2KdXy1vDVlnj3tYOlOZulh2Fc7T1p', '2120724'),\n",
    "('q0kAiKIuAhhJKWlHdLZxhwh0CnF5vawN5YowLZx3AmbwIZID8lzzGkT2vfWTDAAo', '2020921');\n",
    "\"\"\"\n",
    "\n",
    "pymy_cur.execute(q)"
   ]
  },
  {
   "cell_type": "code",
   "execution_count": 33,
   "metadata": {},
   "outputs": [
    {
     "name": "stdout",
     "output_type": "stream",
     "text": [
      "brid|val_1|num_1\n",
      "----------------\n",
      "(1000, 'Q8M5rzhQveJJClZAGhXtNmWCgRm2ETnSeZb2KdXy1vDVlnj3tYOlOZulh2Fc7T1p', 2120724)\n",
      "(1001, 'q0kAiKIuAhhJKWlHdLZxhwh0CnF5vawN5YowLZx3AmbwIZID8lzzGkT2vfWTDAAo', 2020921)\n",
      "\n"
     ]
    }
   ],
   "source": [
    "exec_q(\"select * from xb_bench1;\")"
   ]
  },
  {
   "cell_type": "code",
   "execution_count": 34,
   "metadata": {},
   "outputs": [
    {
     "data": {
      "text/plain": [
       "1"
      ]
     },
     "execution_count": 34,
     "metadata": {},
     "output_type": "execute_result"
    }
   ],
   "source": [
    "q = \"INSERT INTO xb_bench1(val_1, num_1) VALUES (%s, %s);\"\n",
    "record = ('onuqwddqobqubffqubf', 13400111)\n",
    "pymy_cur.execute(q, record)"
   ]
  },
  {
   "cell_type": "code",
   "execution_count": 35,
   "metadata": {},
   "outputs": [
    {
     "name": "stdout",
     "output_type": "stream",
     "text": [
      "brid|val_1|num_1\n",
      "----------------\n",
      "(1000, 'Q8M5rzhQveJJClZAGhXtNmWCgRm2ETnSeZb2KdXy1vDVlnj3tYOlOZulh2Fc7T1p', 2120724)\n",
      "(1001, 'q0kAiKIuAhhJKWlHdLZxhwh0CnF5vawN5YowLZx3AmbwIZID8lzzGkT2vfWTDAAo', 2020921)\n",
      "(1002, 'onuqwddqobqubffqubf', 13400111)\n",
      "\n"
     ]
    }
   ],
   "source": [
    "exec_q(\"select * from xb_bench1;\")"
   ]
  },
  {
   "cell_type": "markdown",
   "metadata": {},
   "source": [
    "# BENCHMARK"
   ]
  },
  {
   "cell_type": "code",
   "execution_count": 22,
   "metadata": {},
   "outputs": [
    {
     "name": "stdout",
     "output_type": "stream",
     "text": [
      "sample data:\n",
      "('XRfeKamwZgkeM8cuq7zWNEIGqnmHdGhQz9CZC2lXlmQqXgRbnXyybLW3S0mlWb4u', 1090368357)\n",
      "('CPVJpN6u6AggwN5qQN2C5Tmnp8ZvMRkUKsOLjOmcrRBtShZpwjyJdJAjhNZZmhAn', 975817519)\n",
      "('2Z7z6WgnBiBtBjdeVCa8cTmWgueZNhi6Bo1kqxRDGrUyQRwyymHFxat6UyIkTpZN', 1715380455)\n"
     ]
    }
   ],
   "source": [
    "# sample data\n",
    "tmp_table = []\n",
    "for _ in range(2000):\n",
    "    tmp_table.append((get_random_str(48), get_random_int32()))\n",
    "\n",
    "print('sample data:')\n",
    "for row in tmp_table[:3]:\n",
    "    print(row)"
   ]
  },
  {
   "cell_type": "code",
   "execution_count": 32,
   "metadata": {},
   "outputs": [
    {
     "name": "stdout",
     "output_type": "stream",
     "text": [
      "time: 2.626749580958858\n",
      "ips: 7613.9728526003155\n",
      "\n",
      "Actual count(*): (20000,)\n"
     ]
    }
   ],
   "source": [
    "# ---------------------------------------- pymy execute\n",
    "# drop tables and start fresh\n",
    "tmp_cur = pymy_conn.cursor()\n",
    "tmp_cur.execute(refresh_schema_q)\n",
    "\n",
    "# sample data\n",
    "num_records = 20 * 1000\n",
    "tmp_table = []\n",
    "for _ in range(num_records):\n",
    "    tmp_table.append((get_random_str(48), get_random_int32()))\n",
    "\n",
    "# query\n",
    "q = \"INSERT xb_bench1(val_1, num_1) VALUES (%s, %s);\"\n",
    "\n",
    "# *** start timer\n",
    "start_time = time.perf_counter()\n",
    "for record in tmp_table:\n",
    "    tmp_cur.execute(q, record)\n",
    "\n",
    "# stop time\n",
    "elapsed_time = time.perf_counter() - start_time\n",
    "\n",
    "print(f\"time: {elapsed_time}\")\n",
    "print(f\"ips: {num_records/elapsed_time}\")\n",
    "\n",
    "tmp_cur.execute(\"select count(*) from xb_bench1;\")\n",
    "print(f\"\\nActual count(*): {tmp_cur.fetchone()}\")\n",
    "\n",
    "tmp_cur.close()"
   ]
  },
  {
   "cell_type": "code",
   "execution_count": null,
   "metadata": {},
   "outputs": [],
   "source": []
  },
  {
   "cell_type": "code",
   "execution_count": 33,
   "metadata": {},
   "outputs": [
    {
     "name": "stdout",
     "output_type": "stream",
     "text": [
      "time: 2.6188691640272737\n",
      "ips: 7636.88399356468\n",
      "actual count(*): (20000,)\n"
     ]
    }
   ],
   "source": [
    "# ---------------------------------------- mdb execute\n",
    "# drop tables and start fresh\n",
    "tmp_cur = mdb_conn.cursor()\n",
    "tmp_cur.execute(refresh_schema_q)\n",
    "\n",
    "# sample data\n",
    "num_records = 20 * 1000\n",
    "tmp_table = []\n",
    "for _ in range(num_records):\n",
    "    tmp_table.append((get_random_str(48), get_random_int32()))\n",
    "\n",
    "# query\n",
    "q = \"INSERT xb_bench1(val_1, num_1) VALUES (%s, %s);\"\n",
    "\n",
    "# *** start timer\n",
    "start_time = time.perf_counter()\n",
    "for record in tmp_table:\n",
    "    tmp_cur.execute(q, record)\n",
    "# stop timer\n",
    "elapsed_time = time.perf_counter() - start_time\n",
    "\n",
    "print(f\"time: {elapsed_time}\")\n",
    "print(f\"ips: {num_records/elapsed_time}\")\n",
    "\n",
    "tmp_cur.execute(\"select count(*) from xb_bench1;\")\n",
    "print(f\"actual count(*): {tmp_cur.fetchone()}\")\n",
    "\n",
    "tmp_cur.close()"
   ]
  },
  {
   "cell_type": "code",
   "execution_count": null,
   "metadata": {},
   "outputs": [],
   "source": []
  },
  {
   "cell_type": "code",
   "execution_count": null,
   "metadata": {},
   "outputs": [],
   "source": []
  },
  {
   "cell_type": "code",
   "execution_count": 35,
   "metadata": {},
   "outputs": [
    {
     "name": "stdout",
     "output_type": "stream",
     "text": [
      "sample data rdy ...\n",
      "time: 9.793820724007674\n",
      "ips: 102105.19757102474\n",
      "\n",
      "Actual count(*): (1000000,)\n"
     ]
    }
   ],
   "source": [
    "# ---------------------------------------- pymy executemany\n",
    "# drop tables and start fresh\n",
    "tmp_cur = pymy_conn.cursor()\n",
    "tmp_cur.execute(refresh_schema_q)\n",
    "\n",
    "# sample data\n",
    "num_records = 1 * 1000 * 1000\n",
    "tmp_table = []\n",
    "for _ in range(num_records):\n",
    "    tmp_table.append((get_random_str(48), get_random_int32()))\n",
    "\n",
    "print(f\"sample data rdy ...\")\n",
    "# query\n",
    "q = \"INSERT xb_bench1(val_1, num_1) VALUES (%s, %s);\"\n",
    "\n",
    "# *** start timer\n",
    "start_time = time.perf_counter()\n",
    "tmp_cur.executemany(q, tmp_table)\n",
    "\n",
    "# stop time\n",
    "elapsed_time = time.perf_counter() - start_time\n",
    "\n",
    "print(f\"time: {elapsed_time}\")\n",
    "print(f\"ips: {num_records/elapsed_time}\")\n",
    "\n",
    "tmp_cur.execute(\"select count(*) from xb_bench1;\")\n",
    "print(f\"\\nActual count(*): {tmp_cur.fetchone()}\")\n",
    "\n",
    "tmp_cur.close()"
   ]
  },
  {
   "cell_type": "code",
   "execution_count": null,
   "metadata": {},
   "outputs": [],
   "source": []
  },
  {
   "cell_type": "code",
   "execution_count": 36,
   "metadata": {},
   "outputs": [
    {
     "name": "stdout",
     "output_type": "stream",
     "text": [
      "sample data rdy ...\n",
      "time: 9.574791940045543\n",
      "ips: 104440.91174635419\n",
      "\n",
      "Actual count(*): (1000000,)\n"
     ]
    }
   ],
   "source": [
    "# ---------------------------------------- mdb executemany\n",
    "# drop tables and start fresh\n",
    "tmp_cur = mdb_conn.cursor()\n",
    "tmp_cur.execute(refresh_schema_q)\n",
    "\n",
    "# sample data\n",
    "num_records = 1 * 1000 * 1000\n",
    "tmp_table = []\n",
    "for _ in range(num_records):\n",
    "    tmp_table.append((get_random_str(48), get_random_int32()))\n",
    "\n",
    "print(f\"sample data rdy ...\")\n",
    "# query\n",
    "q = \"INSERT xb_bench1(val_1, num_1) VALUES (%s, %s);\"\n",
    "\n",
    "# *** start timer\n",
    "start_time = time.perf_counter()\n",
    "tmp_cur.executemany(q, tmp_table)\n",
    "\n",
    "# stop time\n",
    "elapsed_time = time.perf_counter() - start_time\n",
    "\n",
    "print(f\"time: {elapsed_time}\")\n",
    "print(f\"ips: {num_records/elapsed_time}\")\n",
    "\n",
    "tmp_cur.execute(\"select count(*) from xb_bench1;\")\n",
    "print(f\"\\nActual count(*): {tmp_cur.fetchone()}\")\n",
    "\n",
    "tmp_cur.close()"
   ]
  },
  {
   "cell_type": "code",
   "execution_count": null,
   "metadata": {},
   "outputs": [],
   "source": []
  },
  {
   "cell_type": "code",
   "execution_count": null,
   "metadata": {},
   "outputs": [],
   "source": []
  },
  {
   "cell_type": "code",
   "execution_count": null,
   "metadata": {},
   "outputs": [],
   "source": []
  },
  {
   "cell_type": "code",
   "execution_count": null,
   "metadata": {},
   "outputs": [],
   "source": []
  },
  {
   "cell_type": "code",
   "execution_count": null,
   "metadata": {},
   "outputs": [],
   "source": []
  },
  {
   "cell_type": "code",
   "execution_count": null,
   "metadata": {},
   "outputs": [],
   "source": []
  },
  {
   "cell_type": "code",
   "execution_count": null,
   "metadata": {},
   "outputs": [],
   "source": []
  },
  {
   "cell_type": "markdown",
   "metadata": {},
   "source": [
    "# Conclusions\n",
    "---"
   ]
  },
  {
   "cell_type": "raw",
   "metadata": {},
   "source": [
    "|                insertion method                  |   ips (pymysql)   |   ips (mariadb)   |\n",
    "|:-------------------------------------------------|:-----------------:|:-----------------:|\n",
    "| regular execute                                  |       820         |     820 (+10 ??)  |\n",
    "| regular execute, no sync                         |         8 K       |         8 K       |\n",
    "| executemany                                      |       102 K       |       106 K       |\n",
    "| executemany,     no sync                         |       101 K       |       104 K       |\n",
    "\n"
   ]
  },
  {
   "cell_type": "raw",
   "metadata": {},
   "source": [
    "# ---------- Notes:\n",
    "1. \n",
    "    - pymysql is pure python\n",
    "    - mariadb which uses \"mariadb connector/c\"\n",
    "    - psycopg2-binary which I think invokes libpq\n",
    "\n",
    "\n",
    "2. executemany is supposed to be very fast since mariadb 10.2+ or 10.3+\n",
    "yes it was. it was ludicrous speed. 102k, and I had to insert 3 million records\n",
    "to get this speed. 2000 records returns instantly and now python overhead is been made relatively large \n",
    "so much that rate drops to 35k. but its crazy how fast this is.\n",
    "\n",
    "in pg we had use psycopg2.extras.execute_values to get comparable numbers (45k on 2000 records)\n",
    "\n",
    "3. executemany is probably a much better indication of db throughput, vs latency, vs sysbench, ...\n",
    "it will be intersting to see if I can get individual exec calls closer to this throughput number, by using multiple clients.\n",
    "\n",
    "4. Even w/ 100k ips rate, mariadb cpu usage did not exceed 60% on the container which had no cpu limit.\n",
    "\n",
    "5. no sync, did not change execute many perf, but grew execute perf by nearly 10x"
   ]
  },
  {
   "cell_type": "code",
   "execution_count": null,
   "metadata": {},
   "outputs": [],
   "source": []
  },
  {
   "cell_type": "code",
   "execution_count": null,
   "metadata": {},
   "outputs": [],
   "source": []
  },
  {
   "cell_type": "code",
   "execution_count": null,
   "metadata": {},
   "outputs": [],
   "source": []
  },
  {
   "cell_type": "code",
   "execution_count": null,
   "metadata": {},
   "outputs": [],
   "source": []
  },
  {
   "cell_type": "code",
   "execution_count": null,
   "metadata": {},
   "outputs": [],
   "source": []
  },
  {
   "cell_type": "raw",
   "metadata": {},
   "source": [
    "<div style=\"font-weight: bold; background-color: #333\"> </div>\n",
    "\n",
    "\n",
    "|                insertion method                  |   ips (pg bench)  |\n",
    "|:-------------------------------------------------|:-----------------:|\n",
    "| regular execute                                  |    900            |\n",
    "| executemany (uses prep stmnt)                    |    890            |\n",
    "| regular execute, no sync                         |    11k            |\n",
    "| psycopg2.extras.execute_values                   |    45k            |\n",
    "| psycopg2.extras.execute_values no sync           |    100k           |"
   ]
  },
  {
   "cell_type": "code",
   "execution_count": null,
   "metadata": {},
   "outputs": [],
   "source": []
  },
  {
   "cell_type": "code",
   "execution_count": null,
   "metadata": {},
   "outputs": [],
   "source": []
  },
  {
   "cell_type": "code",
   "execution_count": null,
   "metadata": {},
   "outputs": [],
   "source": []
  },
  {
   "cell_type": "code",
   "execution_count": null,
   "metadata": {},
   "outputs": [],
   "source": []
  },
  {
   "cell_type": "code",
   "execution_count": null,
   "metadata": {},
   "outputs": [],
   "source": []
  },
  {
   "cell_type": "code",
   "execution_count": null,
   "metadata": {},
   "outputs": [],
   "source": []
  },
  {
   "cell_type": "code",
   "execution_count": null,
   "metadata": {},
   "outputs": [],
   "source": []
  },
  {
   "cell_type": "code",
   "execution_count": null,
   "metadata": {},
   "outputs": [],
   "source": []
  },
  {
   "cell_type": "code",
   "execution_count": null,
   "metadata": {},
   "outputs": [],
   "source": []
  },
  {
   "cell_type": "code",
   "execution_count": null,
   "metadata": {},
   "outputs": [],
   "source": []
  },
  {
   "cell_type": "code",
   "execution_count": null,
   "metadata": {},
   "outputs": [],
   "source": []
  },
  {
   "cell_type": "code",
   "execution_count": null,
   "metadata": {},
   "outputs": [],
   "source": []
  },
  {
   "cell_type": "code",
   "execution_count": null,
   "metadata": {},
   "outputs": [],
   "source": []
  },
  {
   "cell_type": "code",
   "execution_count": null,
   "metadata": {},
   "outputs": [],
   "source": []
  },
  {
   "cell_type": "code",
   "execution_count": null,
   "metadata": {},
   "outputs": [],
   "source": []
  },
  {
   "cell_type": "code",
   "execution_count": null,
   "metadata": {},
   "outputs": [],
   "source": []
  }
 ],
 "metadata": {
  "kernelspec": {
   "display_name": "Python 3.6.9 64-bit",
   "language": "python",
   "name": "python36964bit6486db22bd404319aca96f84d42312c3"
  },
  "language_info": {
   "codemirror_mode": {
    "name": "ipython",
    "version": 3
   },
   "file_extension": ".py",
   "mimetype": "text/x-python",
   "name": "python",
   "nbconvert_exporter": "python",
   "pygments_lexer": "ipython3",
   "version": "3.6.9"
  }
 },
 "nbformat": 4,
 "nbformat_minor": 4
}
