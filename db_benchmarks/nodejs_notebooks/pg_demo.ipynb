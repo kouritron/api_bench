{
 "cells": [
  {
   "cell_type": "code",
   "execution_count": 1,
   "metadata": {},
   "outputs": [],
   "source": [
    "// does work in tslab\n",
    "\n",
    "var fs = require(\"fs\")\n",
    "import * as tslab from \"tslab\";\n",
    "// console.log(tslab.versions)\n",
    "\n",
    "// const tslab = require('tslab')"
   ]
  },
  {
   "cell_type": "code",
   "execution_count": 2,
   "metadata": {},
   "outputs": [],
   "source": [
    "// does NOOOOOOOOOT work in tslab\n",
    "\n",
    "\n",
    "// const { Pool, Client } = require('pg')\n",
    "// const PPGG = require(\"/home/zu/x1ws/api_bench/node_modules/pg\")\n",
    "// import * as PG from \"/home/zu/x1ws/api_bench/node_modules/pg\";\n",
    "// import * as pg from \"pg\";\n",
    "// const postgres = require(\"postgres\")"
   ]
  },
  {
   "cell_type": "code",
   "execution_count": null,
   "metadata": {},
   "outputs": [],
   "source": []
  },
  {
   "cell_type": "code",
   "execution_count": 3,
   "metadata": {},
   "outputs": [],
   "source": [
    "// Also works in tslab --- note the dynamic import -- or import promise\n",
    "// var PG = import(\"/home/zu/x1ws/api_bench/node_modules/pg\");             // promise\n",
    "\n",
    "const PG = await import(\"/home/zu/x1ws/api_bench/node_modules/pg\");"
   ]
  },
  {
   "cell_type": "code",
   "execution_count": 4,
   "metadata": {},
   "outputs": [],
   "source": [
    "let myclient = new PG.Client();"
   ]
  },
  {
   "cell_type": "code",
   "execution_count": 7,
   "metadata": {},
   "outputs": [
    {
     "name": "stderr",
     "output_type": "stream",
     "text": [
      "Error: connect ECONNREFUSED 127.0.0.1:5432\n",
      "\u001b[90m    at TCPConnectWrap.afterConnect [as oncomplete] (node:net:1161:16)\u001b[39m {\n",
      "  errno: \u001b[33m-111\u001b[39m,\n",
      "  code: \u001b[32m'ECONNREFUSED'\u001b[39m,\n",
      "  syscall: \u001b[32m'connect'\u001b[39m,\n",
      "  address: \u001b[32m'127.0.0.1'\u001b[39m,\n",
      "  port: \u001b[33m5432\u001b[39m\n",
      "}\n"
     ]
    }
   ],
   "source": [
    "await myclient.connect()"
   ]
  },
  {
   "cell_type": "code",
   "execution_count": null,
   "metadata": {},
   "outputs": [],
   "source": []
  },
  {
   "cell_type": "code",
   "execution_count": null,
   "metadata": {},
   "outputs": [],
   "source": []
  },
  {
   "cell_type": "code",
   "execution_count": null,
   "metadata": {},
   "outputs": [],
   "source": []
  },
  {
   "cell_type": "code",
   "execution_count": null,
   "metadata": {},
   "outputs": [],
   "source": []
  },
  {
   "cell_type": "code",
   "execution_count": null,
   "metadata": {},
   "outputs": [],
   "source": []
  },
  {
   "cell_type": "code",
   "execution_count": null,
   "metadata": {},
   "outputs": [],
   "source": []
  },
  {
   "cell_type": "code",
   "execution_count": 6,
   "metadata": {},
   "outputs": [
    {
     "name": "stderr",
     "output_type": "stream",
     "text": [
      "3:20 - Cannot find name 'Client'. Did you mean 'client'?\n"
     ]
    }
   ],
   "source": [
    "// clients will also use environment variables\n",
    "// for connection information\n",
    "const client = new Client()\n",
    "await client.connect()\n",
    "const res = await client.query('SELECT NOW()')\n",
    "await client.end()"
   ]
  },
  {
   "cell_type": "code",
   "execution_count": null,
   "metadata": {},
   "outputs": [],
   "source": []
  },
  {
   "cell_type": "code",
   "execution_count": null,
   "metadata": {},
   "outputs": [],
   "source": []
  },
  {
   "cell_type": "code",
   "execution_count": null,
   "metadata": {},
   "outputs": [],
   "source": []
  },
  {
   "cell_type": "code",
   "execution_count": null,
   "metadata": {},
   "outputs": [],
   "source": []
  },
  {
   "cell_type": "code",
   "execution_count": null,
   "metadata": {},
   "outputs": [],
   "source": []
  },
  {
   "cell_type": "code",
   "execution_count": null,
   "metadata": {},
   "outputs": [],
   "source": []
  },
  {
   "cell_type": "code",
   "execution_count": null,
   "metadata": {},
   "outputs": [],
   "source": []
  }
 ],
 "metadata": {
  "kernelspec": {
   "display_name": "JavaScript",
   "language": "javascript",
   "name": "jslab"
  },
  "language_info": {
   "file_extension": ".js",
   "mimetype": "text/javascript",
   "name": "javascript",
   "version": ""
  }
 },
 "nbformat": 4,
 "nbformat_minor": 4
}
